{
  "nbformat": 4,
  "nbformat_minor": 0,
  "metadata": {
    "colab": {
      "name": "hw_lesson_6.ipynb",
      "provenance": [],
      "collapsed_sections": [],
      "toc_visible": true
    },
    "kernelspec": {
      "display_name": "Python 3",
      "language": "python",
      "name": "python3"
    },
    "language_info": {
      "codemirror_mode": {
        "name": "ipython",
        "version": 3
      },
      "file_extension": ".py",
      "mimetype": "text/x-python",
      "name": "python",
      "nbconvert_exporter": "python",
      "pygments_lexer": "ipython3",
      "version": "3.7.3"
    }
  },
  "cells": [
    {
      "cell_type": "markdown",
      "metadata": {
        "colab_type": "text",
        "id": "FQ5uhAuW9cj6"
      },
      "source": [
        "Задание из 2-х частей.\n",
        "Берем отызывы за лето (из архива с материалами или предыдущего занятия)\n",
        "1. Учим conv сеть для классификации - выбить auc выше 0.95\n",
        "2. Предобучаем word2vec и его эмбединга инициализируем сетку, как влияет на качество?"
      ]
    },
    {
      "cell_type": "code",
      "metadata": {
        "colab_type": "code",
        "id": "rwLYYcS19cj8",
        "colab": {}
      },
      "source": [
        "import numpy as np\n",
        "import pandas as pd\n",
        "from tqdm import tqdm\n",
        "import matplotlib.pyplot as plt\n",
        "\n",
        "%matplotlib inline\n",
        "\n",
        "import warnings \n",
        "warnings.filterwarnings(\"ignore\", category=Warning)"
      ],
      "execution_count": 1,
      "outputs": []
    },
    {
      "cell_type": "markdown",
      "metadata": {
        "colab_type": "text",
        "id": "wtPUA3Gs9ckD"
      },
      "source": [
        "## 0. Загрузка и обзор данных"
      ]
    },
    {
      "cell_type": "code",
      "metadata": {
        "colab_type": "code",
        "id": "mjDvgXsN9ckE",
        "colab": {
          "base_uri": "https://localhost:8080/",
          "height": 204
        },
        "outputId": "7b735f37-435c-4dbf-80a0-fe7a3e7b0c57"
      },
      "source": [
        "data = pd.read_excel(\"отзывы за лето.xls\")\n",
        "data.head()"
      ],
      "execution_count": 3,
      "outputs": [
        {
          "output_type": "execute_result",
          "data": {
            "text/html": [
              "<div>\n",
              "<style scoped>\n",
              "    .dataframe tbody tr th:only-of-type {\n",
              "        vertical-align: middle;\n",
              "    }\n",
              "\n",
              "    .dataframe tbody tr th {\n",
              "        vertical-align: top;\n",
              "    }\n",
              "\n",
              "    .dataframe thead th {\n",
              "        text-align: right;\n",
              "    }\n",
              "</style>\n",
              "<table border=\"1\" class=\"dataframe\">\n",
              "  <thead>\n",
              "    <tr style=\"text-align: right;\">\n",
              "      <th></th>\n",
              "      <th>Rating</th>\n",
              "      <th>Content</th>\n",
              "      <th>Date</th>\n",
              "    </tr>\n",
              "  </thead>\n",
              "  <tbody>\n",
              "    <tr>\n",
              "      <th>0</th>\n",
              "      <td>5</td>\n",
              "      <td>It just works!</td>\n",
              "      <td>2017-08-14</td>\n",
              "    </tr>\n",
              "    <tr>\n",
              "      <th>1</th>\n",
              "      <td>4</td>\n",
              "      <td>В целом удобноное приложение...из минусов хотя...</td>\n",
              "      <td>2017-08-14</td>\n",
              "    </tr>\n",
              "    <tr>\n",
              "      <th>2</th>\n",
              "      <td>5</td>\n",
              "      <td>Отлично все</td>\n",
              "      <td>2017-08-14</td>\n",
              "    </tr>\n",
              "    <tr>\n",
              "      <th>3</th>\n",
              "      <td>5</td>\n",
              "      <td>Стал зависать на 1% работы антивируса. Дальше ...</td>\n",
              "      <td>2017-08-14</td>\n",
              "    </tr>\n",
              "    <tr>\n",
              "      <th>4</th>\n",
              "      <td>5</td>\n",
              "      <td>Очень удобно, работает быстро.</td>\n",
              "      <td>2017-08-14</td>\n",
              "    </tr>\n",
              "  </tbody>\n",
              "</table>\n",
              "</div>"
            ],
            "text/plain": [
              "   Rating                                            Content        Date\n",
              "0       5                                     It just works!  2017-08-14\n",
              "1       4  В целом удобноное приложение...из минусов хотя...  2017-08-14\n",
              "2       5                                        Отлично все  2017-08-14\n",
              "3       5  Стал зависать на 1% работы антивируса. Дальше ...  2017-08-14\n",
              "4       5                     Очень удобно, работает быстро.  2017-08-14"
            ]
          },
          "metadata": {
            "tags": []
          },
          "execution_count": 3
        }
      ]
    },
    {
      "cell_type": "code",
      "metadata": {
        "colab_type": "code",
        "id": "48q96sYD9ckL",
        "colab": {
          "base_uri": "https://localhost:8080/",
          "height": 119
        },
        "outputId": "8bccf266-0e07-46c5-90ef-18db3eaa6648"
      },
      "source": [
        "data['Rating'].value_counts()"
      ],
      "execution_count": 4,
      "outputs": [
        {
          "output_type": "execute_result",
          "data": {
            "text/plain": [
              "5    14586\n",
              "1     2276\n",
              "4     2138\n",
              "3      911\n",
              "2      748\n",
              "Name: Rating, dtype: int64"
            ]
          },
          "metadata": {
            "tags": []
          },
          "execution_count": 4
        }
      ]
    },
    {
      "cell_type": "code",
      "metadata": {
        "colab_type": "code",
        "id": "RYifcm_M9ckc",
        "colab": {}
      },
      "source": [
        "data = data[data['Rating'] != 3]\n",
        "data['target'] = data['Rating'] > 3\n",
        "data['target'] = data['target'].astype(int)"
      ],
      "execution_count": 5,
      "outputs": []
    },
    {
      "cell_type": "code",
      "metadata": {
        "colab_type": "code",
        "id": "thWsmq1l9ckj",
        "colab": {
          "base_uri": "https://localhost:8080/",
          "height": 68
        },
        "outputId": "429ae6c5-8318-41cb-8c7a-eb8f0969bff7"
      },
      "source": [
        "data['target'].value_counts()"
      ],
      "execution_count": 6,
      "outputs": [
        {
          "output_type": "execute_result",
          "data": {
            "text/plain": [
              "1    16724\n",
              "0     3024\n",
              "Name: target, dtype: int64"
            ]
          },
          "metadata": {
            "tags": []
          },
          "execution_count": 6
        }
      ]
    },
    {
      "cell_type": "markdown",
      "metadata": {
        "colab_type": "text",
        "id": "Cgsbm_zD9ckp"
      },
      "source": [
        "**Положительные отзывы:**"
      ]
    },
    {
      "cell_type": "code",
      "metadata": {
        "colab_type": "code",
        "id": "Yi_sJRjn9ckq",
        "colab": {
          "base_uri": "https://localhost:8080/",
          "height": 374
        },
        "outputId": "6e86c85c-c2a4-43ce-e277-758757368a50"
      },
      "source": [
        "data.loc[data['target'] == 1, 'Content'].sample(20, random_state=42)"
      ],
      "execution_count": 7,
      "outputs": [
        {
          "output_type": "execute_result",
          "data": {
            "text/plain": [
              "19216                                  Спасибо, все удобно\n",
              "12380                                                   Ok\n",
              "953                                                Отлично\n",
              "15329                                     Удобное спасибо!\n",
              "12421                                  Отличное приложение\n",
              "17805                                                   Ок\n",
              "8245                                                  норм\n",
              "7299                                               отлично\n",
              "5504                              Очень удобное приложение\n",
              "19928                                              Отлично\n",
              "12680    Заходить в приложение стало в 2 раза дольше,фу...\n",
              "7209                Не могу скачать приложение, ошибка 963\n",
              "12721                 Всё отлично!приложение очень радует!\n",
              "10057                                Удобно.Быстро.Надежно\n",
              "3191                                Очень просто и быстро.\n",
              "5886     Мне понравилось очень удобно сидиш дома и все ...\n",
              "10309    Перестало заходить, причем именно дома по wi f...\n",
              "8383                                    супер!очень удобно\n",
              "8886     Отличное приложение. Весь нужный для обывателя...\n",
              "1022                                           Дайте денег\n",
              "Name: Content, dtype: object"
            ]
          },
          "metadata": {
            "tags": []
          },
          "execution_count": 7
        }
      ]
    },
    {
      "cell_type": "markdown",
      "metadata": {
        "colab_type": "text",
        "id": "59NV5Olf9ckw"
      },
      "source": [
        "**Отрицательные отзывы:**"
      ]
    },
    {
      "cell_type": "code",
      "metadata": {
        "colab_type": "code",
        "id": "y3zC3lPi9cky",
        "colab": {
          "base_uri": "https://localhost:8080/",
          "height": 374
        },
        "outputId": "4603e9f2-3681-44b5-cf3d-fc0ff7dc7753"
      },
      "source": [
        "data.loc[data['target'] == 0, 'Content'].sample(20, random_state=42)"
      ],
      "execution_count": 8,
      "outputs": [
        {
          "output_type": "execute_result",
          "data": {
            "text/plain": [
              "20636                     Дайте доступ к роот правам, с*ки\n",
              "2226     По три раза просит пароль задолбал исправьте п...\n",
              "13980    Ну задолбало уже по 2-3 раза вводить пароль дл...\n",
              "13173    Если честно - дерьмо Ваше приложение! Исправьт...\n",
              "8452                             Не приходит СМС с паролем\n",
              "10162    В шаблонах чехарда появляются записи из Контак...\n",
              "506      Куда подевалось вход по отпечатку? При запуске...\n",
              "17032    Все было хорошо недавно перестало работать из....\n",
              "11215    Не устанавливается приложение!Раньше все было ...\n",
              "3582     Установил приложение. Зарегистрироваться так и...\n",
              "20173    У меня тоже телефон meizu pro 6. И тоже пишет ...\n",
              "9355     Почему у сбера переводы длятся вечность? Польз...\n",
              "8580     Здравствуйте. После последнего обновления стал...\n",
              "1742     При регистрации не могу ввести разовый пароль ...\n",
              "456      Разрабы тупые рукожопы! Наковыряли в обновлени...\n",
              "15358    Не могу войти на свой счет и зарегать новый не...\n",
              "20115    Очень медленное приложение в начале загрузки, ...\n",
              "9829                       Не приходит смс для регистрации\n",
              "14461    Проблемы с подключением. Долго захожу в личный...\n",
              "1360              При регистрации не приходит смс, почему?\n",
              "Name: Content, dtype: object"
            ]
          },
          "metadata": {
            "tags": []
          },
          "execution_count": 8
        }
      ]
    },
    {
      "cell_type": "markdown",
      "metadata": {
        "colab_type": "text",
        "id": "QREkm8H79ck3"
      },
      "source": [
        "## 1. Обработка текстов"
      ]
    },
    {
      "cell_type": "code",
      "metadata": {
        "id": "qJlJnxZP1e7i",
        "colab_type": "code",
        "colab": {
          "base_uri": "https://localhost:8080/",
          "height": 224
        },
        "outputId": "f46121fe-aa53-4a37-a0ac-1036c5fc136b"
      },
      "source": [
        "!pip install pymorphy2"
      ],
      "execution_count": 9,
      "outputs": [
        {
          "output_type": "stream",
          "text": [
            "Collecting pymorphy2\n",
            "\u001b[?25l  Downloading https://files.pythonhosted.org/packages/a3/33/fff9675c68b5f6c63ec8c6e6ff57827dda28a1fa5b2c2d727dffff92dd47/pymorphy2-0.8-py2.py3-none-any.whl (46kB)\n",
            "\r\u001b[K     |███████                         | 10kB 24.3MB/s eta 0:00:01\r\u001b[K     |██████████████▏                 | 20kB 6.4MB/s eta 0:00:01\r\u001b[K     |█████████████████████▎          | 30kB 7.7MB/s eta 0:00:01\r\u001b[K     |████████████████████████████▍   | 40kB 8.3MB/s eta 0:00:01\r\u001b[K     |████████████████████████████████| 51kB 3.4MB/s \n",
            "\u001b[?25hCollecting pymorphy2-dicts<3.0,>=2.4\n",
            "\u001b[?25l  Downloading https://files.pythonhosted.org/packages/02/51/2465fd4f72328ab50877b54777764d928da8cb15b74e2680fc1bd8cb3173/pymorphy2_dicts-2.4.393442.3710985-py2.py3-none-any.whl (7.1MB)\n",
            "\u001b[K     |████████████████████████████████| 7.1MB 13.4MB/s \n",
            "\u001b[?25hRequirement already satisfied: docopt>=0.6 in /usr/local/lib/python3.6/dist-packages (from pymorphy2) (0.6.2)\n",
            "Collecting dawg-python>=0.7\n",
            "  Downloading https://files.pythonhosted.org/packages/6a/84/ff1ce2071d4c650ec85745766c0047ccc3b5036f1d03559fd46bb38b5eeb/DAWG_Python-0.7.2-py2.py3-none-any.whl\n",
            "Installing collected packages: pymorphy2-dicts, dawg-python, pymorphy2\n",
            "Successfully installed dawg-python-0.7.2 pymorphy2-0.8 pymorphy2-dicts-2.4.393442.3710985\n"
          ],
          "name": "stdout"
        }
      ]
    },
    {
      "cell_type": "code",
      "metadata": {
        "colab_type": "code",
        "id": "YJ0BYR5E9ck5",
        "colab": {}
      },
      "source": [
        "import nltk\n",
        "from nltk.tokenize import word_tokenize\n",
        "\n",
        "from pymorphy2 import MorphAnalyzer"
      ],
      "execution_count": 10,
      "outputs": []
    },
    {
      "cell_type": "code",
      "metadata": {
        "id": "A8pMCZt61thB",
        "colab_type": "code",
        "colab": {
          "base_uri": "https://localhost:8080/",
          "height": 68
        },
        "outputId": "cb9ef948-3374-4b00-9eb1-a30c814213b7"
      },
      "source": [
        "nltk.download('punkt')"
      ],
      "execution_count": 11,
      "outputs": [
        {
          "output_type": "stream",
          "text": [
            "[nltk_data] Downloading package punkt to /root/nltk_data...\n",
            "[nltk_data]   Unzipping tokenizers/punkt.zip.\n"
          ],
          "name": "stdout"
        },
        {
          "output_type": "execute_result",
          "data": {
            "text/plain": [
              "True"
            ]
          },
          "metadata": {
            "tags": []
          },
          "execution_count": 11
        }
      ]
    },
    {
      "cell_type": "markdown",
      "metadata": {
        "colab_type": "text",
        "id": "D2AiaO-79ck-"
      },
      "source": [
        "Ограничимся минимальной очисткой текстов - только от точек, запятых и предлогов:"
      ]
    },
    {
      "cell_type": "code",
      "metadata": {
        "colab_type": "code",
        "id": "HbK-VAq99ck_",
        "colab": {}
      },
      "source": [
        "punctuation = r'[,.]'\n",
        "morpher = MorphAnalyzer()\n",
        "\n",
        "stop = {'без', 'безо', 'близ', 'в', 'во', 'вместо', 'вне',\n",
        "        'для', 'до', 'за', 'из', 'изо', 'из-за', 'из-под', \n",
        "        'к', 'ко', 'кроме', 'между', 'меж', 'на', 'над', 'надо',\n",
        "        'о', 'об', 'обо', 'от', 'ото', 'перед', 'передо', 'пред', 'предо',\n",
        "        'пo', 'под', 'подо', 'при', 'про', 'ради', 'с', 'со',\n",
        "        'сквозь', 'среди', 'у', 'через', 'чрез'}"
      ],
      "execution_count": 12,
      "outputs": []
    },
    {
      "cell_type": "markdown",
      "metadata": {
        "colab_type": "text",
        "id": "DGr7jB6H9clF"
      },
      "source": [
        "Функции для обработки текстов:"
      ]
    },
    {
      "cell_type": "code",
      "metadata": {
        "colab_type": "code",
        "id": "zibn1KSq9clK",
        "colab": {}
      },
      "source": [
        "def normalize_text(text_list):\n",
        "    return [morpher.parse(word)[0].normal_form \\\n",
        "            for word in text_list if word not in stop]\n",
        "\n",
        "def preprocess_text(text):    \n",
        "    text_list = nltk.word_tokenize(str(text))\n",
        "    text_list = normalize_text(text_list)\n",
        "    return text_list"
      ],
      "execution_count": 13,
      "outputs": []
    },
    {
      "cell_type": "markdown",
      "metadata": {
        "colab_type": "text",
        "id": "IsHjBLm49clQ"
      },
      "source": [
        "Обработка текстов:"
      ]
    },
    {
      "cell_type": "code",
      "metadata": {
        "colab_type": "code",
        "id": "aLuJeAYi9clR",
        "colab": {
          "base_uri": "https://localhost:8080/",
          "height": 34
        },
        "outputId": "6b6a62b3-832d-460c-f614-481d147a028d"
      },
      "source": [
        "data['Text'] = data['Content'].str.lower()\n",
        "data['Text'] = data['Text'].str.replace(r'[.,]', ' ')\n",
        "data['Text'] = [preprocess_text(text_list) for text_list in tqdm(data['Text'])]"
      ],
      "execution_count": 14,
      "outputs": [
        {
          "output_type": "stream",
          "text": [
            "100%|██████████| 19748/19748 [00:32<00:00, 600.53it/s]\n"
          ],
          "name": "stderr"
        }
      ]
    },
    {
      "cell_type": "markdown",
      "metadata": {
        "colab_type": "text",
        "id": "DCRYrXZG9clW"
      },
      "source": [
        "Датафрейм с обработанными текстами:"
      ]
    },
    {
      "cell_type": "code",
      "metadata": {
        "colab_type": "code",
        "id": "DNuRysbd9clY",
        "colab": {
          "base_uri": "https://localhost:8080/",
          "height": 529
        },
        "outputId": "73b2b431-d09e-43a0-a744-adc8578c0d37"
      },
      "source": [
        "data['Text'] = data['Text'].str.join(' ')\n",
        "data.head(n=10)"
      ],
      "execution_count": 15,
      "outputs": [
        {
          "output_type": "execute_result",
          "data": {
            "text/html": [
              "<div>\n",
              "<style scoped>\n",
              "    .dataframe tbody tr th:only-of-type {\n",
              "        vertical-align: middle;\n",
              "    }\n",
              "\n",
              "    .dataframe tbody tr th {\n",
              "        vertical-align: top;\n",
              "    }\n",
              "\n",
              "    .dataframe thead th {\n",
              "        text-align: right;\n",
              "    }\n",
              "</style>\n",
              "<table border=\"1\" class=\"dataframe\">\n",
              "  <thead>\n",
              "    <tr style=\"text-align: right;\">\n",
              "      <th></th>\n",
              "      <th>Rating</th>\n",
              "      <th>Content</th>\n",
              "      <th>Date</th>\n",
              "      <th>target</th>\n",
              "      <th>Text</th>\n",
              "    </tr>\n",
              "  </thead>\n",
              "  <tbody>\n",
              "    <tr>\n",
              "      <th>0</th>\n",
              "      <td>5</td>\n",
              "      <td>It just works!</td>\n",
              "      <td>2017-08-14</td>\n",
              "      <td>1</td>\n",
              "      <td>it just works !</td>\n",
              "    </tr>\n",
              "    <tr>\n",
              "      <th>1</th>\n",
              "      <td>4</td>\n",
              "      <td>В целом удобноное приложение...из минусов хотя...</td>\n",
              "      <td>2017-08-14</td>\n",
              "      <td>1</td>\n",
              "      <td>целое удобноной приложение минус хотеть слишко...</td>\n",
              "    </tr>\n",
              "    <tr>\n",
              "      <th>2</th>\n",
              "      <td>5</td>\n",
              "      <td>Отлично все</td>\n",
              "      <td>2017-08-14</td>\n",
              "      <td>1</td>\n",
              "      <td>отлично весь</td>\n",
              "    </tr>\n",
              "    <tr>\n",
              "      <th>3</th>\n",
              "      <td>5</td>\n",
              "      <td>Стал зависать на 1% работы антивируса. Дальше ...</td>\n",
              "      <td>2017-08-14</td>\n",
              "      <td>1</td>\n",
              "      <td>стать зависать 1 % работа антивирус далёкий ни...</td>\n",
              "    </tr>\n",
              "    <tr>\n",
              "      <th>4</th>\n",
              "      <td>5</td>\n",
              "      <td>Очень удобно, работает быстро.</td>\n",
              "      <td>2017-08-14</td>\n",
              "      <td>1</td>\n",
              "      <td>очень удобно работать быстро</td>\n",
              "    </tr>\n",
              "    <tr>\n",
              "      <th>5</th>\n",
              "      <td>5</td>\n",
              "      <td>Всё удобно норм 👍👍👍</td>\n",
              "      <td>2017-08-14</td>\n",
              "      <td>1</td>\n",
              "      <td>весь удобно норма 👍👍👍</td>\n",
              "    </tr>\n",
              "    <tr>\n",
              "      <th>6</th>\n",
              "      <td>5</td>\n",
              "      <td>Очень удобное приложение.</td>\n",
              "      <td>2017-08-14</td>\n",
              "      <td>1</td>\n",
              "      <td>очень удобный приложение</td>\n",
              "    </tr>\n",
              "    <tr>\n",
              "      <th>7</th>\n",
              "      <td>5</td>\n",
              "      <td>Все устраивает</td>\n",
              "      <td>2017-08-14</td>\n",
              "      <td>1</td>\n",
              "      <td>весь устраивать</td>\n",
              "    </tr>\n",
              "    <tr>\n",
              "      <th>8</th>\n",
              "      <td>5</td>\n",
              "      <td>У меня работает все четко. В отличии от банком...</td>\n",
              "      <td>2017-08-14</td>\n",
              "      <td>1</td>\n",
              "      <td>я работать весь чётко отличие банкомат который...</td>\n",
              "    </tr>\n",
              "    <tr>\n",
              "      <th>9</th>\n",
              "      <td>5</td>\n",
              "      <td>Очень все хорошо👍</td>\n",
              "      <td>2017-08-14</td>\n",
              "      <td>1</td>\n",
              "      <td>очень весь хорошо👍</td>\n",
              "    </tr>\n",
              "  </tbody>\n",
              "</table>\n",
              "</div>"
            ],
            "text/plain": [
              "   Rating  ...                                               Text\n",
              "0       5  ...                                    it just works !\n",
              "1       4  ...  целое удобноной приложение минус хотеть слишко...\n",
              "2       5  ...                                       отлично весь\n",
              "3       5  ...  стать зависать 1 % работа антивирус далёкий ни...\n",
              "4       5  ...                       очень удобно работать быстро\n",
              "5       5  ...                              весь удобно норма 👍👍👍\n",
              "6       5  ...                           очень удобный приложение\n",
              "7       5  ...                                    весь устраивать\n",
              "8       5  ...  я работать весь чётко отличие банкомат который...\n",
              "9       5  ...                                 очень весь хорошо👍\n",
              "\n",
              "[10 rows x 5 columns]"
            ]
          },
          "metadata": {
            "tags": []
          },
          "execution_count": 15
        }
      ]
    },
    {
      "cell_type": "code",
      "metadata": {
        "colab_type": "code",
        "id": "Ouk1GMDi9cld",
        "colab": {}
      },
      "source": [
        "from sklearn.model_selection import train_test_split"
      ],
      "execution_count": 16,
      "outputs": []
    },
    {
      "cell_type": "code",
      "metadata": {
        "colab_type": "code",
        "id": "NBTi9mYF9cli",
        "colab": {}
      },
      "source": [
        "X = data['Text']\n",
        "y = data['target']"
      ],
      "execution_count": 17,
      "outputs": []
    },
    {
      "cell_type": "code",
      "metadata": {
        "colab_type": "code",
        "id": "7YkJcZ8C9cln",
        "colab": {}
      },
      "source": [
        "X_train, X_test, y_train, y_test = train_test_split(\n",
        "    X, y,\n",
        "    test_size=0.25,\n",
        "    random_state=42,\n",
        "    stratify=y\n",
        ")"
      ],
      "execution_count": 18,
      "outputs": []
    },
    {
      "cell_type": "code",
      "metadata": {
        "id": "ZOi3Jv8xZWVs",
        "colab_type": "code",
        "colab": {}
      },
      "source": [
        "import keras\n",
        "from keras.models import Sequential, Model\n",
        "from keras.layers import Dense, Dropout, Activation, Input, Embedding, Conv1D, GlobalMaxPool1D, SimpleRNN, LSTM, GRU, Masking\n",
        "from keras.preprocessing.text import Tokenizer\n",
        "from keras.preprocessing.sequence import pad_sequences\n",
        "from keras.objectives import categorical_crossentropy"
      ],
      "execution_count": 20,
      "outputs": []
    },
    {
      "cell_type": "code",
      "metadata": {
        "id": "F368VM8cZWKr",
        "colab_type": "code",
        "colab": {}
      },
      "source": [
        "train_corpus = X_train.values\n",
        "test_corpus = X_test.values"
      ],
      "execution_count": 19,
      "outputs": []
    },
    {
      "cell_type": "code",
      "metadata": {
        "id": "J7EBSOO0ZWfw",
        "colab_type": "code",
        "colab": {}
      },
      "source": [
        "tokenizer = Tokenizer(num_words=None, \n",
        "                      filters='#$%&()*+-<=>@[\\\\]^_`{|}~\\t\\n',\n",
        "                      lower = False, split = ' ')\n",
        "tokenizer.fit_on_texts(train_corpus)\n",
        "\n",
        "sequences_train = tokenizer.texts_to_sequences(train_corpus)\n",
        "sequences_test = tokenizer.texts_to_sequences(test_corpus)\n",
        "\n",
        "word_count = len(tokenizer.index_word) + 1\n",
        "training_length = max([len(i.split()) for i in train_corpus])\n",
        "\n",
        "X_train_sequanced = pad_sequences(sequences_train, maxlen=training_length)\n",
        "X_test_sequanced = pad_sequences(sequences_test, maxlen=training_length)"
      ],
      "execution_count": 21,
      "outputs": []
    },
    {
      "cell_type": "code",
      "metadata": {
        "id": "axn3iV1nZWc2",
        "colab_type": "code",
        "colab": {}
      },
      "source": [
        "model = Sequential()\n",
        "\n",
        "model.add(\n",
        "    Embedding(input_dim=word_count,\n",
        "              input_length=training_length,\n",
        "              output_dim=30,\n",
        "              trainable=True,\n",
        "              mask_zero=True))\n",
        "model.add(Masking(mask_value=0.0))\n",
        "\n",
        "model.add(SimpleRNN(64))\n",
        "model.add(Dense(64, activation='relu'))\n",
        "model.add(Dropout(0.5))\n",
        "model.add(Dense(1, activation='sigmoid'))\n",
        "\n",
        "model.compile(\n",
        "    optimizer='adam', loss='binary_crossentropy', metrics=['accuracy'])"
      ],
      "execution_count": 22,
      "outputs": []
    },
    {
      "cell_type": "code",
      "metadata": {
        "id": "Wg5_72njaMw_",
        "colab_type": "code",
        "colab": {
          "base_uri": "https://localhost:8080/",
          "height": 377
        },
        "outputId": "decd364b-fbab-4661-dc54-57316cceafe7"
      },
      "source": [
        "history1 = model.fit(X_train_sequanced, y_train,\n",
        "                     batch_size=10,\n",
        "                     epochs=10,\n",
        "                     verbose=1,\n",
        "                     validation_split=0.1)"
      ],
      "execution_count": 23,
      "outputs": [
        {
          "output_type": "stream",
          "text": [
            "Epoch 1/10\n",
            "1333/1333 [==============================] - 52s 39ms/step - loss: 0.2379 - accuracy: 0.8975 - val_loss: 0.2218 - val_accuracy: 0.9069\n",
            "Epoch 2/10\n",
            "1333/1333 [==============================] - 52s 39ms/step - loss: 0.1617 - accuracy: 0.9367 - val_loss: 0.2572 - val_accuracy: 0.9130\n",
            "Epoch 3/10\n",
            "1333/1333 [==============================] - 52s 39ms/step - loss: 0.1317 - accuracy: 0.9479 - val_loss: 0.3233 - val_accuracy: 0.9055\n",
            "Epoch 4/10\n",
            "1333/1333 [==============================] - 52s 39ms/step - loss: 0.1036 - accuracy: 0.9623 - val_loss: 0.2332 - val_accuracy: 0.9103\n",
            "Epoch 5/10\n",
            "1333/1333 [==============================] - 53s 39ms/step - loss: 0.2495 - accuracy: 0.8935 - val_loss: 0.3200 - val_accuracy: 0.8489\n",
            "Epoch 6/10\n",
            "1333/1333 [==============================] - 53s 40ms/step - loss: 0.2040 - accuracy: 0.9210 - val_loss: 0.3211 - val_accuracy: 0.8590\n",
            "Epoch 7/10\n",
            "1333/1333 [==============================] - 52s 39ms/step - loss: 0.1388 - accuracy: 0.9498 - val_loss: 0.3089 - val_accuracy: 0.8981\n",
            "Epoch 8/10\n",
            "1333/1333 [==============================] - 52s 39ms/step - loss: 0.1145 - accuracy: 0.9624 - val_loss: 0.3027 - val_accuracy: 0.9035\n",
            "Epoch 9/10\n",
            "1333/1333 [==============================] - 52s 39ms/step - loss: 0.1220 - accuracy: 0.9548 - val_loss: 0.2949 - val_accuracy: 0.8650\n",
            "Epoch 10/10\n",
            "1333/1333 [==============================] - 52s 39ms/step - loss: 0.0984 - accuracy: 0.9653 - val_loss: 0.2996 - val_accuracy: 0.9028\n"
          ],
          "name": "stdout"
        }
      ]
    },
    {
      "cell_type": "code",
      "metadata": {
        "colab_type": "code",
        "id": "eN1CaKTSyd-y",
        "colab": {
          "base_uri": "https://localhost:8080/",
          "height": 34
        },
        "outputId": "488366ea-e25f-474d-c862-ecb3a9595ffb"
      },
      "source": [
        "loss, acc = model.evaluate(X_test_sequanced, y_test, batch_size=10, verbose=1)"
      ],
      "execution_count": 25,
      "outputs": [
        {
          "output_type": "stream",
          "text": [
            "494/494 [==============================] - 4s 8ms/step - loss: 0.2910 - accuracy: 0.9056\n"
          ],
          "name": "stdout"
        }
      ]
    },
    {
      "cell_type": "code",
      "metadata": {
        "id": "GAA1Vt-ga8dg",
        "colab_type": "code",
        "colab": {}
      },
      "source": [
        "model = Sequential()\n",
        "\n",
        "model.add(\n",
        "    Embedding(input_dim=word_count,\n",
        "              input_length=training_length,\n",
        "              output_dim=30,\n",
        "              trainable=True,\n",
        "              mask_zero=True))\n",
        "model.add(Masking(mask_value=0.0))\n",
        "model.add(LSTM(64, recurrent_dropout=0.2))\n",
        "model.add(Dense(64, activation='relu'))\n",
        "model.add(Dropout(0.5))\n",
        "model.add(Dense(1, activation='sigmoid'))\n",
        "\n",
        "model.compile(\n",
        "    optimizer='adam', loss='binary_crossentropy', metrics=['accuracy'])"
      ],
      "execution_count": 29,
      "outputs": []
    },
    {
      "cell_type": "code",
      "metadata": {
        "id": "TqhvIU_ja8zN",
        "colab_type": "code",
        "colab": {
          "base_uri": "https://localhost:8080/",
          "height": 377
        },
        "outputId": "6a8c471e-0615-4d43-80a1-b237c22072de"
      },
      "source": [
        "history2 = model.fit(X_train_sequanced, y_train,\n",
        "                     batch_size=10,\n",
        "                     epochs=10,\n",
        "                     verbose=1,\n",
        "                     validation_split=0.1)"
      ],
      "execution_count": 30,
      "outputs": [
        {
          "output_type": "stream",
          "text": [
            "Epoch 1/10\n",
            "1333/1333 [==============================] - 178s 134ms/step - loss: 0.2149 - accuracy: 0.9091 - val_loss: 0.1921 - val_accuracy: 0.9184\n",
            "Epoch 2/10\n",
            "1333/1333 [==============================] - 179s 134ms/step - loss: 0.1379 - accuracy: 0.9476 - val_loss: 0.1891 - val_accuracy: 0.9298\n",
            "Epoch 3/10\n",
            "1333/1333 [==============================] - 178s 134ms/step - loss: 0.0983 - accuracy: 0.9631 - val_loss: 0.2309 - val_accuracy: 0.9224\n",
            "Epoch 4/10\n",
            "1333/1333 [==============================] - 180s 135ms/step - loss: 0.0779 - accuracy: 0.9741 - val_loss: 0.2375 - val_accuracy: 0.9204\n",
            "Epoch 5/10\n",
            "1333/1333 [==============================] - 178s 134ms/step - loss: 0.0631 - accuracy: 0.9782 - val_loss: 0.2941 - val_accuracy: 0.9109\n",
            "Epoch 6/10\n",
            "1333/1333 [==============================] - 179s 134ms/step - loss: 0.0531 - accuracy: 0.9815 - val_loss: 0.3366 - val_accuracy: 0.9123\n",
            "Epoch 7/10\n",
            "1333/1333 [==============================] - 178s 134ms/step - loss: 0.0417 - accuracy: 0.9863 - val_loss: 0.3561 - val_accuracy: 0.9157\n",
            "Epoch 8/10\n",
            "1333/1333 [==============================] - 178s 134ms/step - loss: 0.0346 - accuracy: 0.9880 - val_loss: 0.3579 - val_accuracy: 0.9163\n",
            "Epoch 9/10\n",
            "1333/1333 [==============================] - 180s 135ms/step - loss: 0.0287 - accuracy: 0.9896 - val_loss: 0.4268 - val_accuracy: 0.9143\n",
            "Epoch 10/10\n",
            "1333/1333 [==============================] - 178s 134ms/step - loss: 0.0283 - accuracy: 0.9902 - val_loss: 0.4272 - val_accuracy: 0.9150\n"
          ],
          "name": "stdout"
        }
      ]
    },
    {
      "cell_type": "code",
      "metadata": {
        "id": "RWnkTUpMcQUs",
        "colab_type": "code",
        "colab": {
          "base_uri": "https://localhost:8080/",
          "height": 34
        },
        "outputId": "2d848c3a-33a3-4464-edbc-2d27acef03db"
      },
      "source": [
        "loss, acc = model.evaluate(X_test_sequanced, y_test, batch_size=10, verbose=1)"
      ],
      "execution_count": 31,
      "outputs": [
        {
          "output_type": "stream",
          "text": [
            "494/494 [==============================] - 9s 19ms/step - loss: 0.4284 - accuracy: 0.9129\n"
          ],
          "name": "stdout"
        }
      ]
    },
    {
      "cell_type": "code",
      "metadata": {
        "id": "wjedcj3Ya9Bf",
        "colab_type": "code",
        "colab": {}
      },
      "source": [
        "model = Sequential()\n",
        "\n",
        "model.add(\n",
        "    Embedding(input_dim=word_count,\n",
        "              input_length=training_length,\n",
        "              output_dim=30,\n",
        "              trainable=True,\n",
        "              mask_zero=True))\n",
        "model.add(Masking(mask_value=0.0))\n",
        "model.add(GRU(64, recurrent_dropout=0.2))\n",
        "model.add(Dense(64, activation='relu'))\n",
        "model.add(Dropout(0.5))\n",
        "model.add(Dense(1, activation='sigmoid'))\n",
        "\n",
        "model.compile(\n",
        "    optimizer='adam', loss='binary_crossentropy', metrics=['accuracy'])"
      ],
      "execution_count": 32,
      "outputs": []
    },
    {
      "cell_type": "code",
      "metadata": {
        "id": "Jni4wF51b1Hd",
        "colab_type": "code",
        "colab": {
          "base_uri": "https://localhost:8080/",
          "height": 377
        },
        "outputId": "327b1d80-a348-44a2-ffe8-982625e5c441"
      },
      "source": [
        "history3 = model.fit(X_train_sequanced, y_train,\n",
        "                     batch_size=512,\n",
        "                     epochs=10,\n",
        "                     verbose=1,\n",
        "                     validation_split=0.1)"
      ],
      "execution_count": 33,
      "outputs": [
        {
          "output_type": "stream",
          "text": [
            "Epoch 1/10\n",
            "27/27 [==============================] - 16s 581ms/step - loss: 0.5643 - accuracy: 0.8345 - val_loss: 0.3893 - val_accuracy: 0.8408\n",
            "Epoch 2/10\n",
            "27/27 [==============================] - 16s 576ms/step - loss: 0.3291 - accuracy: 0.8485 - val_loss: 0.2899 - val_accuracy: 0.8475\n",
            "Epoch 3/10\n",
            "27/27 [==============================] - 15s 569ms/step - loss: 0.2396 - accuracy: 0.8981 - val_loss: 0.2480 - val_accuracy: 0.8819\n",
            "Epoch 4/10\n",
            "27/27 [==============================] - 15s 570ms/step - loss: 0.1847 - accuracy: 0.9274 - val_loss: 0.2273 - val_accuracy: 0.8968\n",
            "Epoch 5/10\n",
            "27/27 [==============================] - 15s 568ms/step - loss: 0.1451 - accuracy: 0.9450 - val_loss: 0.2300 - val_accuracy: 0.9103\n",
            "Epoch 6/10\n",
            "27/27 [==============================] - 15s 565ms/step - loss: 0.1184 - accuracy: 0.9561 - val_loss: 0.2239 - val_accuracy: 0.9157\n",
            "Epoch 7/10\n",
            "27/27 [==============================] - 15s 566ms/step - loss: 0.0980 - accuracy: 0.9638 - val_loss: 0.2621 - val_accuracy: 0.9163\n",
            "Epoch 8/10\n",
            "27/27 [==============================] - 15s 569ms/step - loss: 0.0853 - accuracy: 0.9702 - val_loss: 0.2471 - val_accuracy: 0.9123\n",
            "Epoch 9/10\n",
            "27/27 [==============================] - 15s 566ms/step - loss: 0.0686 - accuracy: 0.9775 - val_loss: 0.3004 - val_accuracy: 0.9103\n",
            "Epoch 10/10\n",
            "27/27 [==============================] - 15s 566ms/step - loss: 0.0618 - accuracy: 0.9796 - val_loss: 0.2824 - val_accuracy: 0.9123\n"
          ],
          "name": "stdout"
        }
      ]
    },
    {
      "cell_type": "code",
      "metadata": {
        "id": "r9sZ8kEtb1Rs",
        "colab_type": "code",
        "colab": {
          "base_uri": "https://localhost:8080/",
          "height": 34
        },
        "outputId": "5506f53b-8a3d-4e17-f8b8-f1ae73ed7b4c"
      },
      "source": [
        "loss, acc = model.evaluate(X_test_sequanced, y_test, batch_size=10, verbose=1)"
      ],
      "execution_count": 34,
      "outputs": [
        {
          "output_type": "stream",
          "text": [
            "494/494 [==============================] - 9s 18ms/step - loss: 0.2794 - accuracy: 0.9097\n"
          ],
          "name": "stdout"
        }
      ]
    },
    {
      "cell_type": "code",
      "metadata": {
        "colab_type": "code",
        "id": "4Q6uxf1TBnVk",
        "colab": {
          "base_uri": "https://localhost:8080/",
          "height": 281
        },
        "outputId": "2c0939ce-1432-48c8-a34e-b8c553a47b2c"
      },
      "source": [
        "plt.plot(history1.history['val_accuracy'], label='RNN', c='darkred')\n",
        "plt.plot(history2.history['val_accuracy'], label='LSTM', c='darkgreen')\n",
        "plt.plot(history3.history['val_accuracy'], label='GRU', c='darkblue')\n",
        "plt.title('Valid Accuracy in Learning History')\n",
        "plt.legend(loc='best')\n",
        "plt.grid(True)\n",
        "plt.show()"
      ],
      "execution_count": 35,
      "outputs": [
        {
          "output_type": "display_data",
          "data": {
            "image/png": "[encoded data removed]",
            "text/plain": [
              "<Figure size 432x288 with 1 Axes>"
            ]
          },
          "metadata": {
            "tags": [],
            "needs_background": "light"
          }
        }
      ]
    }
  ]
}