{
 "cells": [
  {
   "cell_type": "code",
   "execution_count": 1,
   "metadata": {},
   "outputs": [],
   "source": [
    "import numpy as np\n",
    "import pandas as pd\n",
    "from tqdm import tqdm\n",
    "import matplotlib.pyplot as plt\n",
    "\n",
    "%matplotlib inline\n",
    "\n",
    "import warnings \n",
    "warnings.filterwarnings(\"ignore\", category=Warning)"
   ]
  },
  {
   "cell_type": "markdown",
   "metadata": {},
   "source": [
    "## 0. Загрузка и обзор данных"
   ]
  },
  {
   "cell_type": "code",
   "execution_count": 2,
   "metadata": {},
   "outputs": [
    {
     "data": {
      "text/html": [
       "<div>\n",
       "<style scoped>\n",
       "    .dataframe tbody tr th:only-of-type {\n",
       "        vertical-align: middle;\n",
       "    }\n",
       "\n",
       "    .dataframe tbody tr th {\n",
       "        vertical-align: top;\n",
       "    }\n",
       "\n",
       "    .dataframe thead th {\n",
       "        text-align: right;\n",
       "    }\n",
       "</style>\n",
       "<table border=\"1\" class=\"dataframe\">\n",
       "  <thead>\n",
       "    <tr style=\"text-align: right;\">\n",
       "      <th></th>\n",
       "      <th>Rating</th>\n",
       "      <th>Content</th>\n",
       "      <th>Date</th>\n",
       "    </tr>\n",
       "  </thead>\n",
       "  <tbody>\n",
       "    <tr>\n",
       "      <th>0</th>\n",
       "      <td>5</td>\n",
       "      <td>It just works!</td>\n",
       "      <td>2017-08-14</td>\n",
       "    </tr>\n",
       "    <tr>\n",
       "      <th>1</th>\n",
       "      <td>4</td>\n",
       "      <td>В целом удобноное приложение...из минусов хотя...</td>\n",
       "      <td>2017-08-14</td>\n",
       "    </tr>\n",
       "    <tr>\n",
       "      <th>2</th>\n",
       "      <td>5</td>\n",
       "      <td>Отлично все</td>\n",
       "      <td>2017-08-14</td>\n",
       "    </tr>\n",
       "    <tr>\n",
       "      <th>3</th>\n",
       "      <td>5</td>\n",
       "      <td>Стал зависать на 1% работы антивируса. Дальше ...</td>\n",
       "      <td>2017-08-14</td>\n",
       "    </tr>\n",
       "    <tr>\n",
       "      <th>4</th>\n",
       "      <td>5</td>\n",
       "      <td>Очень удобно, работает быстро.</td>\n",
       "      <td>2017-08-14</td>\n",
       "    </tr>\n",
       "  </tbody>\n",
       "</table>\n",
       "</div>"
      ],
      "text/plain": [
       "   Rating                                            Content        Date\n",
       "0       5                                     It just works!  2017-08-14\n",
       "1       4  В целом удобноное приложение...из минусов хотя...  2017-08-14\n",
       "2       5                                        Отлично все  2017-08-14\n",
       "3       5  Стал зависать на 1% работы антивируса. Дальше ...  2017-08-14\n",
       "4       5                     Очень удобно, работает быстро.  2017-08-14"
      ]
     },
     "execution_count": 2,
     "metadata": {},
     "output_type": "execute_result"
    }
   ],
   "source": [
    "data = pd.read_excel(\"отзывы за лето.xls\")\n",
    "data.head()"
   ]
  },
  {
   "cell_type": "code",
   "execution_count": 3,
   "metadata": {},
   "outputs": [
    {
     "data": {
      "text/plain": [
       "5    14586\n",
       "1     2276\n",
       "4     2138\n",
       "3      911\n",
       "2      748\n",
       "Name: Rating, dtype: int64"
      ]
     },
     "execution_count": 3,
     "metadata": {},
     "output_type": "execute_result"
    }
   ],
   "source": [
    "data['Rating'].value_counts()"
   ]
  },
  {
   "cell_type": "code",
   "execution_count": 4,
   "metadata": {},
   "outputs": [],
   "source": [
    "data = data[data['Rating'] != 3]\n",
    "data['target'] = data['Rating'] > 3\n",
    "data['target'] = data['target'].astype(int)"
   ]
  },
  {
   "cell_type": "code",
   "execution_count": 5,
   "metadata": {},
   "outputs": [
    {
     "data": {
      "text/plain": [
       "1    16724\n",
       "0     3024\n",
       "Name: target, dtype: int64"
      ]
     },
     "execution_count": 5,
     "metadata": {},
     "output_type": "execute_result"
    }
   ],
   "source": [
    "data['target'].value_counts()"
   ]
  },
  {
   "cell_type": "markdown",
   "metadata": {},
   "source": [
    "**Положительные отзывы:**"
   ]
  },
  {
   "cell_type": "code",
   "execution_count": 6,
   "metadata": {},
   "outputs": [
    {
     "data": {
      "text/plain": [
       "19216                                  Спасибо, все удобно\n",
       "12380                                                   Ok\n",
       "953                                                Отлично\n",
       "15329                                     Удобное спасибо!\n",
       "12421                                  Отличное приложение\n",
       "17805                                                   Ок\n",
       "8245                                                  норм\n",
       "7299                                               отлично\n",
       "5504                              Очень удобное приложение\n",
       "19928                                              Отлично\n",
       "12680    Заходить в приложение стало в 2 раза дольше,фу...\n",
       "7209                Не могу скачать приложение, ошибка 963\n",
       "12721                 Всё отлично!приложение очень радует!\n",
       "10057                                Удобно.Быстро.Надежно\n",
       "3191                                Очень просто и быстро.\n",
       "5886     Мне понравилось очень удобно сидиш дома и все ...\n",
       "10309    Перестало заходить, причем именно дома по wi f...\n",
       "8383                                    супер!очень удобно\n",
       "8886     Отличное приложение. Весь нужный для обывателя...\n",
       "1022                                           Дайте денег\n",
       "Name: Content, dtype: object"
      ]
     },
     "execution_count": 6,
     "metadata": {},
     "output_type": "execute_result"
    }
   ],
   "source": [
    "data.loc[data['target'] == 1, 'Content'].sample(20, random_state=42)"
   ]
  },
  {
   "cell_type": "markdown",
   "metadata": {},
   "source": [
    "**Отрицательные отзывы:**"
   ]
  },
  {
   "cell_type": "code",
   "execution_count": 7,
   "metadata": {},
   "outputs": [
    {
     "data": {
      "text/plain": [
       "20636                     Дайте доступ к роот правам, с*ки\n",
       "2226     По три раза просит пароль задолбал исправьте п...\n",
       "13980    Ну задолбало уже по 2-3 раза вводить пароль дл...\n",
       "13173    Если честно - дерьмо Ваше приложение! Исправьт...\n",
       "8452                             Не приходит СМС с паролем\n",
       "10162    В шаблонах чехарда появляются записи из Контак...\n",
       "506      Куда подевалось вход по отпечатку? При запуске...\n",
       "17032    Все было хорошо недавно перестало работать из....\n",
       "11215    Не устанавливается приложение!Раньше все было ...\n",
       "3582     Установил приложение. Зарегистрироваться так и...\n",
       "20173    У меня тоже телефон meizu pro 6. И тоже пишет ...\n",
       "9355     Почему у сбера переводы длятся вечность? Польз...\n",
       "8580     Здравствуйте. После последнего обновления стал...\n",
       "1742     При регистрации не могу ввести разовый пароль ...\n",
       "456      Разрабы тупые рукожопы! Наковыряли в обновлени...\n",
       "15358    Не могу войти на свой счет и зарегать новый не...\n",
       "20115    Очень медленное приложение в начале загрузки, ...\n",
       "9829                       Не приходит смс для регистрации\n",
       "14461    Проблемы с подключением. Долго захожу в личный...\n",
       "1360              При регистрации не приходит смс, почему?\n",
       "Name: Content, dtype: object"
      ]
     },
     "execution_count": 7,
     "metadata": {},
     "output_type": "execute_result"
    }
   ],
   "source": [
    "data.loc[data['target'] == 0, 'Content'].sample(20, random_state=42)"
   ]
  },
  {
   "cell_type": "markdown",
   "metadata": {},
   "source": [
    "## 1. Обработка текстов"
   ]
  },
  {
   "cell_type": "code",
   "execution_count": 8,
   "metadata": {},
   "outputs": [],
   "source": [
    "import nltk\n",
    "from pymorphy2 import MorphAnalyzer"
   ]
  },
  {
   "cell_type": "markdown",
   "metadata": {},
   "source": [
    "Ограничимся минимальной очисткой текстов - только от точек, запятых и предлогов:"
   ]
  },
  {
   "cell_type": "code",
   "execution_count": 9,
   "metadata": {},
   "outputs": [],
   "source": [
    "punctuation = r'[,.]'\n",
    "morpher = MorphAnalyzer()\n",
    "\n",
    "stop = {'без', 'безо', 'близ', 'в', 'во', 'вместо', 'вне',\n",
    "        'для', 'до', 'за', 'из', 'изо', 'из-за', 'из-под', \n",
    "        'к', 'ко', 'кроме', 'между', 'меж', 'на', 'над', 'надо',\n",
    "        'о', 'об', 'обо', 'от', 'ото', 'перед', 'передо', 'пред', 'предо',\n",
    "        'пo', 'под', 'подо', 'при', 'про', 'ради', 'с', 'со',\n",
    "        'сквозь', 'среди', 'у', 'через', 'чрез'}"
   ]
  },
  {
   "cell_type": "markdown",
   "metadata": {},
   "source": [
    "Функции для обработки текстов:"
   ]
  },
  {
   "cell_type": "code",
   "execution_count": 10,
   "metadata": {},
   "outputs": [],
   "source": [
    "def normalize_text(text_list):\n",
    "    return [morpher.parse(word)[0].normal_form \\\n",
    "            for word in text_list if word not in stop]\n",
    "\n",
    "def preprocess_text(text):    \n",
    "    text_list = nltk.word_tokenize(str(text))\n",
    "    text_list = normalize_text(text_list)\n",
    "    return text_list"
   ]
  },
  {
   "cell_type": "markdown",
   "metadata": {},
   "source": [
    "Обработка текстов:"
   ]
  },
  {
   "cell_type": "code",
   "execution_count": 11,
   "metadata": {},
   "outputs": [
    {
     "name": "stderr",
     "output_type": "stream",
     "text": [
      "100%|███████████████████████████████████| 19748/19748 [01:06<00:00, 296.06it/s]\n"
     ]
    }
   ],
   "source": [
    "data['Text'] = data['Content'].str.lower()\n",
    "data['Text'] = data['Text'].str.replace(r'[.,]', ' ')\n",
    "data['Text'] = [preprocess_text(text_list) for text_list in tqdm(data['Text'])]"
   ]
  },
  {
   "cell_type": "markdown",
   "metadata": {},
   "source": [
    "Датафрейм с обработанными текстами:"
   ]
  },
  {
   "cell_type": "code",
   "execution_count": 12,
   "metadata": {},
   "outputs": [
    {
     "data": {
      "text/html": [
       "<div>\n",
       "<style scoped>\n",
       "    .dataframe tbody tr th:only-of-type {\n",
       "        vertical-align: middle;\n",
       "    }\n",
       "\n",
       "    .dataframe tbody tr th {\n",
       "        vertical-align: top;\n",
       "    }\n",
       "\n",
       "    .dataframe thead th {\n",
       "        text-align: right;\n",
       "    }\n",
       "</style>\n",
       "<table border=\"1\" class=\"dataframe\">\n",
       "  <thead>\n",
       "    <tr style=\"text-align: right;\">\n",
       "      <th></th>\n",
       "      <th>Rating</th>\n",
       "      <th>Content</th>\n",
       "      <th>Date</th>\n",
       "      <th>target</th>\n",
       "      <th>Text</th>\n",
       "    </tr>\n",
       "  </thead>\n",
       "  <tbody>\n",
       "    <tr>\n",
       "      <th>0</th>\n",
       "      <td>5</td>\n",
       "      <td>It just works!</td>\n",
       "      <td>2017-08-14</td>\n",
       "      <td>1</td>\n",
       "      <td>it just works !</td>\n",
       "    </tr>\n",
       "    <tr>\n",
       "      <th>1</th>\n",
       "      <td>4</td>\n",
       "      <td>В целом удобноное приложение...из минусов хотя...</td>\n",
       "      <td>2017-08-14</td>\n",
       "      <td>1</td>\n",
       "      <td>целое удобноной приложение минус хотеть слишко...</td>\n",
       "    </tr>\n",
       "    <tr>\n",
       "      <th>2</th>\n",
       "      <td>5</td>\n",
       "      <td>Отлично все</td>\n",
       "      <td>2017-08-14</td>\n",
       "      <td>1</td>\n",
       "      <td>отлично весь</td>\n",
       "    </tr>\n",
       "    <tr>\n",
       "      <th>3</th>\n",
       "      <td>5</td>\n",
       "      <td>Стал зависать на 1% работы антивируса. Дальше ...</td>\n",
       "      <td>2017-08-14</td>\n",
       "      <td>1</td>\n",
       "      <td>стать зависать 1 % работа антивирус далёкий ни...</td>\n",
       "    </tr>\n",
       "    <tr>\n",
       "      <th>4</th>\n",
       "      <td>5</td>\n",
       "      <td>Очень удобно, работает быстро.</td>\n",
       "      <td>2017-08-14</td>\n",
       "      <td>1</td>\n",
       "      <td>очень удобно работать быстро</td>\n",
       "    </tr>\n",
       "    <tr>\n",
       "      <th>5</th>\n",
       "      <td>5</td>\n",
       "      <td>Всё удобно норм 👍👍👍</td>\n",
       "      <td>2017-08-14</td>\n",
       "      <td>1</td>\n",
       "      <td>весь удобно норма 👍👍👍</td>\n",
       "    </tr>\n",
       "    <tr>\n",
       "      <th>6</th>\n",
       "      <td>5</td>\n",
       "      <td>Очень удобное приложение.</td>\n",
       "      <td>2017-08-14</td>\n",
       "      <td>1</td>\n",
       "      <td>очень удобный приложение</td>\n",
       "    </tr>\n",
       "    <tr>\n",
       "      <th>7</th>\n",
       "      <td>5</td>\n",
       "      <td>Все устраивает</td>\n",
       "      <td>2017-08-14</td>\n",
       "      <td>1</td>\n",
       "      <td>весь устраивать</td>\n",
       "    </tr>\n",
       "    <tr>\n",
       "      <th>8</th>\n",
       "      <td>5</td>\n",
       "      <td>У меня работает все четко. В отличии от банком...</td>\n",
       "      <td>2017-08-14</td>\n",
       "      <td>1</td>\n",
       "      <td>я работать весь чётко отличие банкомат который...</td>\n",
       "    </tr>\n",
       "    <tr>\n",
       "      <th>9</th>\n",
       "      <td>5</td>\n",
       "      <td>Очень все хорошо👍</td>\n",
       "      <td>2017-08-14</td>\n",
       "      <td>1</td>\n",
       "      <td>очень весь хорошо👍</td>\n",
       "    </tr>\n",
       "  </tbody>\n",
       "</table>\n",
       "</div>"
      ],
      "text/plain": [
       "   Rating                                            Content        Date  \\\n",
       "0       5                                     It just works!  2017-08-14   \n",
       "1       4  В целом удобноное приложение...из минусов хотя...  2017-08-14   \n",
       "2       5                                        Отлично все  2017-08-14   \n",
       "3       5  Стал зависать на 1% работы антивируса. Дальше ...  2017-08-14   \n",
       "4       5                     Очень удобно, работает быстро.  2017-08-14   \n",
       "5       5                                Всё удобно норм 👍👍👍  2017-08-14   \n",
       "6       5                          Очень удобное приложение.  2017-08-14   \n",
       "7       5                                     Все устраивает  2017-08-14   \n",
       "8       5  У меня работает все четко. В отличии от банком...  2017-08-14   \n",
       "9       5                                  Очень все хорошо👍  2017-08-14   \n",
       "\n",
       "   target                                               Text  \n",
       "0       1                                    it just works !  \n",
       "1       1  целое удобноной приложение минус хотеть слишко...  \n",
       "2       1                                       отлично весь  \n",
       "3       1  стать зависать 1 % работа антивирус далёкий ни...  \n",
       "4       1                       очень удобно работать быстро  \n",
       "5       1                              весь удобно норма 👍👍👍  \n",
       "6       1                           очень удобный приложение  \n",
       "7       1                                    весь устраивать  \n",
       "8       1  я работать весь чётко отличие банкомат который...  \n",
       "9       1                                 очень весь хорошо👍  "
      ]
     },
     "execution_count": 12,
     "metadata": {},
     "output_type": "execute_result"
    }
   ],
   "source": [
    "data['Text'] = data['Text'].str.join(' ')\n",
    "data.head(n=10)"
   ]
  },
  {
   "cell_type": "markdown",
   "metadata": {},
   "source": [
    "## 2. Векторизация текстов и обучение логистической регрессии"
   ]
  },
  {
   "cell_type": "code",
   "execution_count": 13,
   "metadata": {},
   "outputs": [],
   "source": [
    "from sklearn.feature_extraction.text import CountVectorizer, TfidfVectorizer\n",
    "from sklearn.linear_model import LogisticRegressionCV\n",
    "from sklearn.metrics import classification_report, f1_score, precision_score, recall_score\n",
    "from sklearn.model_selection import train_test_split\n",
    "\n",
    "from catboost import CatBoostClassifier"
   ]
  },
  {
   "cell_type": "markdown",
   "metadata": {},
   "source": [
    "Выборка и её разделение:"
   ]
  },
  {
   "cell_type": "code",
   "execution_count": 14,
   "metadata": {},
   "outputs": [],
   "source": [
    "X = data['Text']\n",
    "y = data['target']"
   ]
  },
  {
   "cell_type": "code",
   "execution_count": 15,
   "metadata": {},
   "outputs": [],
   "source": [
    "X_train, X_test, y_train, y_test = train_test_split(\n",
    "    X, y,\n",
    "    test_size=0.25,\n",
    "    random_state=42,\n",
    "    stratify=y\n",
    ")"
   ]
  },
  {
   "cell_type": "markdown",
   "metadata": {},
   "source": [
    "Мешок слов из 5000 самых частотных униграмм, биграмм и триграмм:"
   ]
  },
  {
   "cell_type": "code",
   "execution_count": 16,
   "metadata": {},
   "outputs": [],
   "source": [
    "vectorizer = CountVectorizer(ngram_range=(1, 3), max_features=5000)"
   ]
  },
  {
   "cell_type": "markdown",
   "metadata": {},
   "source": [
    "Векторизация выборок:"
   ]
  },
  {
   "cell_type": "code",
   "execution_count": 17,
   "metadata": {},
   "outputs": [],
   "source": [
    "X_train_vectorized = vectorizer.fit_transform(X_train)\n",
    "X_test_vectorized = vectorizer.transform(X_test)"
   ]
  },
  {
   "cell_type": "markdown",
   "metadata": {},
   "source": [
    "Логистическая регрессия с L1-регуляризацией (с выбором C по кросс-валидации):"
   ]
  },
  {
   "cell_type": "code",
   "execution_count": 18,
   "metadata": {},
   "outputs": [],
   "source": [
    "lr = LogisticRegressionCV(\n",
    "    cv=3,\n",
    "    penalty='l1',\n",
    "    scoring='f1',\n",
    "    solver='saga',\n",
    "    class_weight='balanced',\n",
    "    n_jobs=-1,\n",
    "    random_state=42\n",
    ")"
   ]
  },
  {
   "cell_type": "code",
   "execution_count": 19,
   "metadata": {},
   "outputs": [
    {
     "name": "stdout",
     "output_type": "stream",
     "text": [
      "Wall time: 4min 1s\n"
     ]
    },
    {
     "data": {
      "text/plain": [
       "LogisticRegressionCV(Cs=10, class_weight='balanced', cv=3, dual=False,\n",
       "                     fit_intercept=True, intercept_scaling=1.0, l1_ratios=None,\n",
       "                     max_iter=100, multi_class='auto', n_jobs=-1, penalty='l1',\n",
       "                     random_state=42, refit=True, scoring='f1', solver='saga',\n",
       "                     tol=0.0001, verbose=0)"
      ]
     },
     "execution_count": 19,
     "metadata": {},
     "output_type": "execute_result"
    }
   ],
   "source": [
    "%%time\n",
    "lr.fit(X_train_vectorized, y_train)"
   ]
  },
  {
   "cell_type": "markdown",
   "metadata": {},
   "source": [
    "Вероятностное предсказание:"
   ]
  },
  {
   "cell_type": "code",
   "execution_count": 20,
   "metadata": {},
   "outputs": [],
   "source": [
    "y_lr_proba = lr.predict_proba(X_test_vectorized)\n",
    "y_lr_proba = y_lr_proba[:, 1]"
   ]
  },
  {
   "cell_type": "markdown",
   "metadata": {},
   "source": [
    "Вспомогательные функции для калибровки вероятностного порога и проверки качества предсказания:\n",
    "    <br>**взяты из курса ранее*"
   ]
  },
  {
   "cell_type": "code",
   "execution_count": 21,
   "metadata": {},
   "outputs": [],
   "source": [
    "def show_proba_calibration_plots(y_predicted_probs, y_true_labels):\n",
    "    preds_with_true_labels = np.array(list(zip(y_predicted_probs, y_true_labels)))\n",
    "\n",
    "    thresholds = []\n",
    "    precisions = []\n",
    "    recalls = []\n",
    "    f1_scores = []\n",
    "\n",
    "    for threshold in np.linspace(0.1, 0.9, 9):\n",
    "        thresholds.append(threshold)\n",
    "        precisions.append(precision_score(y_true_labels, list(map(int, y_predicted_probs > threshold))))\n",
    "        recalls.append(recall_score(y_true_labels, list(map(int, y_predicted_probs > threshold))))\n",
    "        f1_scores.append(f1_score(y_true_labels, list(map(int, y_predicted_probs > threshold))))\n",
    "\n",
    "    scores_table = pd.DataFrame({'f1':f1_scores,\n",
    "                                 'precision':precisions,\n",
    "                                 'recall':recalls,\n",
    "                                 'probability':thresholds}).sort_values('f1', ascending=False).round(3)\n",
    "  \n",
    "    figure = plt.figure(figsize = (15, 5))\n",
    "\n",
    "    plt1 = figure.add_subplot(121)\n",
    "    plt1.plot(thresholds, precisions, label='Precision', linewidth=4)\n",
    "    plt1.plot(thresholds, recalls, label='Recall', linewidth=4)\n",
    "    plt1.plot(thresholds, f1_scores, label='F1', linewidth=4)\n",
    "    plt1.set_ylabel('Scores')\n",
    "    plt1.set_xlabel('Probability threshold')\n",
    "    plt1.set_title('Probabilities threshold calibration')\n",
    "    plt1.legend(bbox_to_anchor=(0.25, 0.25))   \n",
    "    plt1.table(cellText = scores_table.values,\n",
    "               colLabels = scores_table.columns, \n",
    "               colLoc = 'center', cellLoc = 'center', loc = 'bottom', bbox = [0, -1.3, 1, 1])\n",
    "\n",
    "    plt2 = figure.add_subplot(122)\n",
    "    plt2.hist(preds_with_true_labels[preds_with_true_labels[:, 1] == 0][:, 0], \n",
    "              label='Another class', color='royalblue', alpha=1)\n",
    "    plt2.hist(preds_with_true_labels[preds_with_true_labels[:, 1] == 1][:, 0], \n",
    "              label='Main class', color='darkcyan', alpha=0.8)\n",
    "    plt2.set_ylabel('Number of examples')\n",
    "    plt2.set_xlabel('Probabilities')\n",
    "    plt2.set_title('Probability histogram')\n",
    "    plt2.legend(bbox_to_anchor=(1, 1))\n",
    "\n",
    "    plt.show()"
   ]
  },
  {
   "cell_type": "code",
   "execution_count": 22,
   "metadata": {},
   "outputs": [],
   "source": [
    "def get_classification_report(y_test_true, y_test_pred):\n",
    "    print(classification_report(y_test_true, y_test_pred))\n",
    "    print('CONFUSION MATRIX\\n')\n",
    "    crosstab = pd.crosstab(y_test_true, y_test_pred)\n",
    "    crosstab.index = pd.Index([0, 1], name='true')\n",
    "    crosstab.columns = pd.Index([0, 1], name='pred')\n",
    "    print(crosstab)"
   ]
  },
  {
   "cell_type": "markdown",
   "metadata": {},
   "source": [
    "Оптимальный вероятностный порог - 0.3:"
   ]
  },
  {
   "cell_type": "code",
   "execution_count": 23,
   "metadata": {},
   "outputs": [
    {
     "data": {
      "image/png": "[encoded data removed]",
      "text/plain": [
       "<Figure size 1080x360 with 2 Axes>"
      ]
     },
     "metadata": {
      "needs_background": "light"
     },
     "output_type": "display_data"
    }
   ],
   "source": [
    "show_proba_calibration_plots(y_lr_proba, y_test)"
   ]
  },
  {
   "cell_type": "markdown",
   "metadata": {},
   "source": [
    "Метрики качества предсказания логистической регрессии на тесте с таким порогом:"
   ]
  },
  {
   "cell_type": "code",
   "execution_count": 24,
   "metadata": {},
   "outputs": [
    {
     "name": "stdout",
     "output_type": "stream",
     "text": [
      "              precision    recall  f1-score   support\n",
      "\n",
      "           0       0.76      0.77      0.76       756\n",
      "           1       0.96      0.96      0.96      4181\n",
      "\n",
      "    accuracy                           0.93      4937\n",
      "   macro avg       0.86      0.86      0.86      4937\n",
      "weighted avg       0.93      0.93      0.93      4937\n",
      "\n",
      "CONFUSION MATRIX\n",
      "\n",
      "pred    0     1\n",
      "true           \n",
      "0     582   174\n",
      "1     188  3993\n"
     ]
    }
   ],
   "source": [
    "get_classification_report(y_test, y_lr_proba > 0.3)"
   ]
  },
  {
   "cell_type": "markdown",
   "metadata": {},
   "source": [
    "## 3. Отбор топ-1000 признаков"
   ]
  },
  {
   "cell_type": "markdown",
   "metadata": {},
   "source": [
    "**Зачем?** Для быстроты (и качества) обучения модели бустинга отберем топ-1000 признаков по весам, найденными моделью логистической регресии с L1-регуляризацией."
   ]
  },
  {
   "cell_type": "markdown",
   "metadata": {},
   "source": [
    "Датафрейм со словами, соответствующими признакам в модели векторайзера, и их весами от логистической регрессии:"
   ]
  },
  {
   "cell_type": "code",
   "execution_count": 25,
   "metadata": {},
   "outputs": [],
   "source": [
    "feature_weights = pd.DataFrame(\n",
    "    {'feature_names': vectorizer.get_feature_names(),\n",
    "     'lr_coef': lr.coef_.ravel()}\n",
    "    )"
   ]
  },
  {
   "cell_type": "markdown",
   "metadata": {},
   "source": [
    "Отсортируем датафрейм по абсолютным значениям весов и выберем индексы топ-1000 признаков.\n",
    "Отсортируем датафрейм снова, чтобы посмотреть, какие слова определяют положительный отзыв (сверху), а какие - отрицательный (снизу). Мы же исключили слова из середины такого ранжирования - с околонулевыми весами."
   ]
  },
  {
   "cell_type": "code",
   "execution_count": 26,
   "metadata": {},
   "outputs": [
    {
     "data": {
      "text/html": [
       "<div>\n",
       "<style scoped>\n",
       "    .dataframe tbody tr th:only-of-type {\n",
       "        vertical-align: middle;\n",
       "    }\n",
       "\n",
       "    .dataframe tbody tr th {\n",
       "        vertical-align: top;\n",
       "    }\n",
       "\n",
       "    .dataframe thead th {\n",
       "        text-align: right;\n",
       "    }\n",
       "</style>\n",
       "<table border=\"1\" class=\"dataframe\">\n",
       "  <thead>\n",
       "    <tr style=\"text-align: right;\">\n",
       "      <th></th>\n",
       "      <th>feature_names</th>\n",
       "      <th>lr_coef</th>\n",
       "    </tr>\n",
       "  </thead>\n",
       "  <tbody>\n",
       "    <tr>\n",
       "      <th>2275</th>\n",
       "      <td>ок</td>\n",
       "      <td>5.204294</td>\n",
       "    </tr>\n",
       "    <tr>\n",
       "      <th>4407</th>\n",
       "      <td>удобно</td>\n",
       "      <td>4.395251</td>\n",
       "    </tr>\n",
       "    <tr>\n",
       "      <th>1463</th>\n",
       "      <td>класс</td>\n",
       "      <td>4.186748</td>\n",
       "    </tr>\n",
       "    <tr>\n",
       "      <th>2451</th>\n",
       "      <td>отличный</td>\n",
       "      <td>4.024734</td>\n",
       "    </tr>\n",
       "    <tr>\n",
       "      <th>4736</th>\n",
       "      <td>хорошо</td>\n",
       "      <td>3.739721</td>\n",
       "    </tr>\n",
       "    <tr>\n",
       "      <th>2426</th>\n",
       "      <td>отлично</td>\n",
       "      <td>3.664086</td>\n",
       "    </tr>\n",
       "    <tr>\n",
       "      <th>263</th>\n",
       "      <td>бывать</td>\n",
       "      <td>3.445068</td>\n",
       "    </tr>\n",
       "    <tr>\n",
       "      <th>2140</th>\n",
       "      <td>норма</td>\n",
       "      <td>3.392685</td>\n",
       "    </tr>\n",
       "    <tr>\n",
       "      <th>1889</th>\n",
       "      <td>не плохо</td>\n",
       "      <td>3.341956</td>\n",
       "    </tr>\n",
       "    <tr>\n",
       "      <th>4070</th>\n",
       "      <td>супер</td>\n",
       "      <td>3.263559</td>\n",
       "    </tr>\n",
       "    <tr>\n",
       "      <th>2155</th>\n",
       "      <td>нравиться</td>\n",
       "      <td>3.242656</td>\n",
       "    </tr>\n",
       "    <tr>\n",
       "      <th>996</th>\n",
       "      <td>довольный</td>\n",
       "      <td>3.202400</td>\n",
       "    </tr>\n",
       "    <tr>\n",
       "      <th>1544</th>\n",
       "      <td>круто</td>\n",
       "      <td>2.915374</td>\n",
       "    </tr>\n",
       "    <tr>\n",
       "      <th>4690</th>\n",
       "      <td>хватать</td>\n",
       "      <td>2.902158</td>\n",
       "    </tr>\n",
       "    <tr>\n",
       "      <th>1467</th>\n",
       "      <td>классный</td>\n",
       "      <td>2.714198</td>\n",
       "    </tr>\n",
       "    <tr>\n",
       "      <th>4713</th>\n",
       "      <td>хороший приложение</td>\n",
       "      <td>2.696650</td>\n",
       "    </tr>\n",
       "    <tr>\n",
       "      <th>1692</th>\n",
       "      <td>молодец</td>\n",
       "      <td>2.691024</td>\n",
       "    </tr>\n",
       "    <tr>\n",
       "      <th>872</th>\n",
       "      <td>гуд</td>\n",
       "      <td>2.672071</td>\n",
       "    </tr>\n",
       "    <tr>\n",
       "      <th>666</th>\n",
       "      <td>восстановить</td>\n",
       "      <td>2.605094</td>\n",
       "    </tr>\n",
       "    <tr>\n",
       "      <th>3691</th>\n",
       "      <td>ругаться</td>\n",
       "      <td>2.532888</td>\n",
       "    </tr>\n",
       "    <tr>\n",
       "      <th>3949</th>\n",
       "      <td>спасибо</td>\n",
       "      <td>2.478015</td>\n",
       "    </tr>\n",
       "    <tr>\n",
       "      <th>4639</th>\n",
       "      <td>устраивать</td>\n",
       "      <td>2.470899</td>\n",
       "    </tr>\n",
       "    <tr>\n",
       "      <th>1220</th>\n",
       "      <td>замечательный</td>\n",
       "      <td>2.452619</td>\n",
       "    </tr>\n",
       "    <tr>\n",
       "      <th>1465</th>\n",
       "      <td>классно</td>\n",
       "      <td>2.439140</td>\n",
       "    </tr>\n",
       "    <tr>\n",
       "      <th>4502</th>\n",
       "      <td>удобный</td>\n",
       "      <td>2.398425</td>\n",
       "    </tr>\n",
       "    <tr>\n",
       "      <th>3101</th>\n",
       "      <td>почему то</td>\n",
       "      <td>2.359513</td>\n",
       "    </tr>\n",
       "    <tr>\n",
       "      <th>2990</th>\n",
       "      <td>понравиться</td>\n",
       "      <td>2.351062</td>\n",
       "    </tr>\n",
       "    <tr>\n",
       "      <th>72</th>\n",
       "      <td>ok</td>\n",
       "      <td>2.350437</td>\n",
       "    </tr>\n",
       "    <tr>\n",
       "      <th>1298</th>\n",
       "      <td>здорово</td>\n",
       "      <td>2.321315</td>\n",
       "    </tr>\n",
       "    <tr>\n",
       "      <th>1095</th>\n",
       "      <td>единственный</td>\n",
       "      <td>2.307465</td>\n",
       "    </tr>\n",
       "    <tr>\n",
       "      <th>...</th>\n",
       "      <td>...</td>\n",
       "      <td>...</td>\n",
       "    </tr>\n",
       "    <tr>\n",
       "      <th>409</th>\n",
       "      <td>весить</td>\n",
       "      <td>-2.262097</td>\n",
       "    </tr>\n",
       "    <tr>\n",
       "      <th>2958</th>\n",
       "      <td>пользоваться весь</td>\n",
       "      <td>-2.272832</td>\n",
       "    </tr>\n",
       "    <tr>\n",
       "      <th>2786</th>\n",
       "      <td>плата</td>\n",
       "      <td>-2.275140</td>\n",
       "    </tr>\n",
       "    <tr>\n",
       "      <th>4618</th>\n",
       "      <td>устанавливать</td>\n",
       "      <td>-2.320535</td>\n",
       "    </tr>\n",
       "    <tr>\n",
       "      <th>792</th>\n",
       "      <td>вылетать</td>\n",
       "      <td>-2.321975</td>\n",
       "    </tr>\n",
       "    <tr>\n",
       "      <th>4392</th>\n",
       "      <td>удалить приложение</td>\n",
       "      <td>-2.328496</td>\n",
       "    </tr>\n",
       "    <tr>\n",
       "      <th>4733</th>\n",
       "      <td>хороший хороший</td>\n",
       "      <td>-2.332005</td>\n",
       "    </tr>\n",
       "    <tr>\n",
       "      <th>1820</th>\n",
       "      <td>не делать</td>\n",
       "      <td>-2.369218</td>\n",
       "    </tr>\n",
       "    <tr>\n",
       "      <th>4342</th>\n",
       "      <td>тупой</td>\n",
       "      <td>-2.429809</td>\n",
       "    </tr>\n",
       "    <tr>\n",
       "      <th>2499</th>\n",
       "      <td>отстой</td>\n",
       "      <td>-2.456444</td>\n",
       "    </tr>\n",
       "    <tr>\n",
       "      <th>1171</th>\n",
       "      <td>заблокировать</td>\n",
       "      <td>-2.460551</td>\n",
       "    </tr>\n",
       "    <tr>\n",
       "      <th>1457</th>\n",
       "      <td>китайский</td>\n",
       "      <td>-2.489081</td>\n",
       "    </tr>\n",
       "    <tr>\n",
       "      <th>3664</th>\n",
       "      <td>регистрация</td>\n",
       "      <td>-2.490530</td>\n",
       "    </tr>\n",
       "    <tr>\n",
       "      <th>3077</th>\n",
       "      <td>постоянный</td>\n",
       "      <td>-2.571974</td>\n",
       "    </tr>\n",
       "    <tr>\n",
       "      <th>4233</th>\n",
       "      <td>тинькофф</td>\n",
       "      <td>-2.596296</td>\n",
       "    </tr>\n",
       "    <tr>\n",
       "      <th>1968</th>\n",
       "      <td>невозможно</td>\n",
       "      <td>-2.649782</td>\n",
       "    </tr>\n",
       "    <tr>\n",
       "      <th>4563</th>\n",
       "      <td>ужасно</td>\n",
       "      <td>-2.770867</td>\n",
       "    </tr>\n",
       "    <tr>\n",
       "      <th>69</th>\n",
       "      <td>not</td>\n",
       "      <td>-2.798237</td>\n",
       "    </tr>\n",
       "    <tr>\n",
       "      <th>977</th>\n",
       "      <td>дерьмо</td>\n",
       "      <td>-2.835061</td>\n",
       "    </tr>\n",
       "    <tr>\n",
       "      <th>1409</th>\n",
       "      <td>как весь</td>\n",
       "      <td>-3.055250</td>\n",
       "    </tr>\n",
       "    <tr>\n",
       "      <th>1952</th>\n",
       "      <td>не удобно</td>\n",
       "      <td>-3.067133</td>\n",
       "    </tr>\n",
       "    <tr>\n",
       "      <th>3190</th>\n",
       "      <td>приложение главный</td>\n",
       "      <td>-3.179884</td>\n",
       "    </tr>\n",
       "    <tr>\n",
       "      <th>3833</th>\n",
       "      <td>скачать</td>\n",
       "      <td>-3.181523</td>\n",
       "    </tr>\n",
       "    <tr>\n",
       "      <th>2527</th>\n",
       "      <td>очень долгий</td>\n",
       "      <td>-3.224517</td>\n",
       "    </tr>\n",
       "    <tr>\n",
       "      <th>84</th>\n",
       "      <td>root</td>\n",
       "      <td>-3.302701</td>\n",
       "    </tr>\n",
       "    <tr>\n",
       "      <th>1376</th>\n",
       "      <td>испортить</td>\n",
       "      <td>-3.762975</td>\n",
       "    </tr>\n",
       "    <tr>\n",
       "      <th>4562</th>\n",
       "      <td>ужас</td>\n",
       "      <td>-3.780268</td>\n",
       "    </tr>\n",
       "    <tr>\n",
       "      <th>829</th>\n",
       "      <td>главный очень</td>\n",
       "      <td>-3.883778</td>\n",
       "    </tr>\n",
       "    <tr>\n",
       "      <th>322</th>\n",
       "      <td>быть хороший</td>\n",
       "      <td>-3.979923</td>\n",
       "    </tr>\n",
       "    <tr>\n",
       "      <th>2393</th>\n",
       "      <td>отвратительный</td>\n",
       "      <td>-4.039086</td>\n",
       "    </tr>\n",
       "  </tbody>\n",
       "</table>\n",
       "<p>1000 rows × 2 columns</p>\n",
       "</div>"
      ],
      "text/plain": [
       "           feature_names   lr_coef\n",
       "2275                  ок  5.204294\n",
       "4407              удобно  4.395251\n",
       "1463               класс  4.186748\n",
       "2451            отличный  4.024734\n",
       "4736              хорошо  3.739721\n",
       "2426             отлично  3.664086\n",
       "263               бывать  3.445068\n",
       "2140               норма  3.392685\n",
       "1889            не плохо  3.341956\n",
       "4070               супер  3.263559\n",
       "2155           нравиться  3.242656\n",
       "996            довольный  3.202400\n",
       "1544               круто  2.915374\n",
       "4690             хватать  2.902158\n",
       "1467            классный  2.714198\n",
       "4713  хороший приложение  2.696650\n",
       "1692             молодец  2.691024\n",
       "872                  гуд  2.672071\n",
       "666         восстановить  2.605094\n",
       "3691            ругаться  2.532888\n",
       "3949             спасибо  2.478015\n",
       "4639          устраивать  2.470899\n",
       "1220       замечательный  2.452619\n",
       "1465             классно  2.439140\n",
       "4502             удобный  2.398425\n",
       "3101           почему то  2.359513\n",
       "2990         понравиться  2.351062\n",
       "72                    ok  2.350437\n",
       "1298             здорово  2.321315\n",
       "1095        единственный  2.307465\n",
       "...                  ...       ...\n",
       "409               весить -2.262097\n",
       "2958   пользоваться весь -2.272832\n",
       "2786               плата -2.275140\n",
       "4618       устанавливать -2.320535\n",
       "792             вылетать -2.321975\n",
       "4392  удалить приложение -2.328496\n",
       "4733     хороший хороший -2.332005\n",
       "1820           не делать -2.369218\n",
       "4342               тупой -2.429809\n",
       "2499              отстой -2.456444\n",
       "1171       заблокировать -2.460551\n",
       "1457           китайский -2.489081\n",
       "3664         регистрация -2.490530\n",
       "3077          постоянный -2.571974\n",
       "4233            тинькофф -2.596296\n",
       "1968          невозможно -2.649782\n",
       "4563              ужасно -2.770867\n",
       "69                   not -2.798237\n",
       "977               дерьмо -2.835061\n",
       "1409            как весь -3.055250\n",
       "1952           не удобно -3.067133\n",
       "3190  приложение главный -3.179884\n",
       "3833             скачать -3.181523\n",
       "2527        очень долгий -3.224517\n",
       "84                  root -3.302701\n",
       "1376           испортить -3.762975\n",
       "4562                ужас -3.780268\n",
       "829        главный очень -3.883778\n",
       "322         быть хороший -3.979923\n",
       "2393      отвратительный -4.039086\n",
       "\n",
       "[1000 rows x 2 columns]"
      ]
     },
     "execution_count": 26,
     "metadata": {},
     "output_type": "execute_result"
    }
   ],
   "source": [
    "top1000 = feature_weights['lr_coef'].abs().sort_values(ascending=False).head(n=1000).index.values\n",
    "feature_weights.iloc[top1000, :].sort_values(by='lr_coef', ascending=False)"
   ]
  },
  {
   "cell_type": "markdown",
   "metadata": {},
   "source": [
    "Отбираем по индексам топ-1000 векторизованных признаков:"
   ]
  },
  {
   "cell_type": "code",
   "execution_count": 27,
   "metadata": {},
   "outputs": [],
   "source": [
    "X_train_selected = X_train_vectorized[:, top1000]\n",
    "X_test_selected = X_test_vectorized[:, top1000]"
   ]
  },
  {
   "cell_type": "markdown",
   "metadata": {},
   "source": [
    "## 4. Обучение модели бустинга"
   ]
  },
  {
   "cell_type": "markdown",
   "metadata": {},
   "source": [
    "Обучаем модель CatBoostClassifier из коробки на отобранных топ-1000 признаках:"
   ]
  },
  {
   "cell_type": "code",
   "execution_count": 28,
   "metadata": {},
   "outputs": [
    {
     "name": "stdout",
     "output_type": "stream",
     "text": [
      "Wall time: 1min 13s\n"
     ]
    },
    {
     "data": {
      "text/plain": [
       "<catboost.core.CatBoostClassifier at 0x1408e080>"
      ]
     },
     "execution_count": 28,
     "metadata": {},
     "output_type": "execute_result"
    }
   ],
   "source": [
    "catb = CatBoostClassifier(eval_metric='F1', silent=True, random_state=42)\n",
    "%time catb.fit(X_train_selected, y_train);"
   ]
  },
  {
   "cell_type": "markdown",
   "metadata": {},
   "source": [
    "Получение вероятностного предсказания и его калибровка:"
   ]
  },
  {
   "cell_type": "code",
   "execution_count": 29,
   "metadata": {},
   "outputs": [],
   "source": [
    "y_catb_proba = catb.predict_proba(X_test_selected)\n",
    "y_catb_proba = y_catb_proba[:, 1]"
   ]
  },
  {
   "cell_type": "code",
   "execution_count": 30,
   "metadata": {},
   "outputs": [
    {
     "data": {
      "image/png": "[encoded data removed]",
      "text/plain": [
       "<Figure size 1080x360 with 2 Axes>"
      ]
     },
     "metadata": {
      "needs_background": "light"
     },
     "output_type": "display_data"
    }
   ],
   "source": [
    "show_proba_calibration_plots(y_catb_proba, y_test)"
   ]
  },
  {
   "cell_type": "markdown",
   "metadata": {},
   "source": [
    "Метрики качества предсказания модели бустинга на тесте с оптимальным порогом 0.7:"
   ]
  },
  {
   "cell_type": "code",
   "execution_count": 31,
   "metadata": {},
   "outputs": [
    {
     "name": "stdout",
     "output_type": "stream",
     "text": [
      "              precision    recall  f1-score   support\n",
      "\n",
      "           0       0.71      0.78      0.75       756\n",
      "           1       0.96      0.94      0.95      4181\n",
      "\n",
      "    accuracy                           0.92      4937\n",
      "   macro avg       0.84      0.86      0.85      4937\n",
      "weighted avg       0.92      0.92      0.92      4937\n",
      "\n",
      "CONFUSION MATRIX\n",
      "\n",
      "pred    0     1\n",
      "true           \n",
      "0     589   167\n",
      "1     235  3946\n"
     ]
    }
   ],
   "source": [
    "get_classification_report(y_test, y_catb_proba > 0.7)"
   ]
  },
  {
   "cell_type": "markdown",
   "metadata": {},
   "source": [
    "Метрики, конечно. немного ухудшились, но не сильно."
   ]
  },
  {
   "cell_type": "markdown",
   "metadata": {},
   "source": [
    "Добавим важности признаков в датафрейм к соответствующим им словам и упорядочим:"
   ]
  },
  {
   "cell_type": "code",
   "execution_count": 32,
   "metadata": {},
   "outputs": [
    {
     "data": {
      "text/html": [
       "<div>\n",
       "<style scoped>\n",
       "    .dataframe tbody tr th:only-of-type {\n",
       "        vertical-align: middle;\n",
       "    }\n",
       "\n",
       "    .dataframe tbody tr th {\n",
       "        vertical-align: top;\n",
       "    }\n",
       "\n",
       "    .dataframe thead th {\n",
       "        text-align: right;\n",
       "    }\n",
       "</style>\n",
       "<table border=\"1\" class=\"dataframe\">\n",
       "  <thead>\n",
       "    <tr style=\"text-align: right;\">\n",
       "      <th></th>\n",
       "      <th>feature_names</th>\n",
       "      <th>lr_coef</th>\n",
       "      <th>catb_fi</th>\n",
       "    </tr>\n",
       "  </thead>\n",
       "  <tbody>\n",
       "    <tr>\n",
       "      <th>4407</th>\n",
       "      <td>удобно</td>\n",
       "      <td>4.395251</td>\n",
       "      <td>32.883081</td>\n",
       "    </tr>\n",
       "    <tr>\n",
       "      <th>1795</th>\n",
       "      <td>не</td>\n",
       "      <td>-1.129072</td>\n",
       "      <td>12.069638</td>\n",
       "    </tr>\n",
       "    <tr>\n",
       "      <th>4502</th>\n",
       "      <td>удобный</td>\n",
       "      <td>2.398425</td>\n",
       "      <td>4.653658</td>\n",
       "    </tr>\n",
       "    <tr>\n",
       "      <th>2155</th>\n",
       "      <td>нравиться</td>\n",
       "      <td>3.242656</td>\n",
       "      <td>3.562036</td>\n",
       "    </tr>\n",
       "    <tr>\n",
       "      <th>2575</th>\n",
       "      <td>очень удобно</td>\n",
       "      <td>2.259458</td>\n",
       "      <td>3.369574</td>\n",
       "    </tr>\n",
       "    <tr>\n",
       "      <th>2451</th>\n",
       "      <td>отличный</td>\n",
       "      <td>4.024734</td>\n",
       "      <td>2.359529</td>\n",
       "    </tr>\n",
       "    <tr>\n",
       "      <th>2426</th>\n",
       "      <td>отлично</td>\n",
       "      <td>3.664086</td>\n",
       "      <td>2.288544</td>\n",
       "    </tr>\n",
       "    <tr>\n",
       "      <th>3949</th>\n",
       "      <td>спасибо</td>\n",
       "      <td>2.478015</td>\n",
       "      <td>2.157656</td>\n",
       "    </tr>\n",
       "    <tr>\n",
       "      <th>2203</th>\n",
       "      <td>обновление</td>\n",
       "      <td>-1.333716</td>\n",
       "      <td>2.018223</td>\n",
       "    </tr>\n",
       "    <tr>\n",
       "      <th>132</th>\n",
       "      <td>антивирус</td>\n",
       "      <td>-1.420767</td>\n",
       "      <td>1.705715</td>\n",
       "    </tr>\n",
       "    <tr>\n",
       "      <th>4070</th>\n",
       "      <td>супер</td>\n",
       "      <td>3.263559</td>\n",
       "      <td>1.319756</td>\n",
       "    </tr>\n",
       "    <tr>\n",
       "      <th>3483</th>\n",
       "      <td>прошивка</td>\n",
       "      <td>-1.617281</td>\n",
       "      <td>1.252803</td>\n",
       "    </tr>\n",
       "    <tr>\n",
       "      <th>3701</th>\n",
       "      <td>рута</td>\n",
       "      <td>-1.799086</td>\n",
       "      <td>0.971095</td>\n",
       "    </tr>\n",
       "    <tr>\n",
       "      <th>84</th>\n",
       "      <td>root</td>\n",
       "      <td>-3.302701</td>\n",
       "      <td>0.935663</td>\n",
       "    </tr>\n",
       "    <tr>\n",
       "      <th>2638</th>\n",
       "      <td>ошибка</td>\n",
       "      <td>-1.413100</td>\n",
       "      <td>0.932231</td>\n",
       "    </tr>\n",
       "    <tr>\n",
       "      <th>4736</th>\n",
       "      <td>хорошо</td>\n",
       "      <td>3.739721</td>\n",
       "      <td>0.919164</td>\n",
       "    </tr>\n",
       "    <tr>\n",
       "      <th>564</th>\n",
       "      <td>весь устраивать</td>\n",
       "      <td>1.648045</td>\n",
       "      <td>0.741189</td>\n",
       "    </tr>\n",
       "    <tr>\n",
       "      <th>1968</th>\n",
       "      <td>невозможно</td>\n",
       "      <td>-2.649782</td>\n",
       "      <td>0.717623</td>\n",
       "    </tr>\n",
       "    <tr>\n",
       "      <th>792</th>\n",
       "      <td>вылетать</td>\n",
       "      <td>-2.321975</td>\n",
       "      <td>0.686174</td>\n",
       "    </tr>\n",
       "    <tr>\n",
       "      <th>4701</th>\n",
       "      <td>хороший</td>\n",
       "      <td>1.504347</td>\n",
       "      <td>0.659192</td>\n",
       "    </tr>\n",
       "  </tbody>\n",
       "</table>\n",
       "</div>"
      ],
      "text/plain": [
       "        feature_names   lr_coef    catb_fi\n",
       "4407           удобно  4.395251  32.883081\n",
       "1795               не -1.129072  12.069638\n",
       "4502          удобный  2.398425   4.653658\n",
       "2155        нравиться  3.242656   3.562036\n",
       "2575     очень удобно  2.259458   3.369574\n",
       "2451         отличный  4.024734   2.359529\n",
       "2426          отлично  3.664086   2.288544\n",
       "3949          спасибо  2.478015   2.157656\n",
       "2203       обновление -1.333716   2.018223\n",
       "132         антивирус -1.420767   1.705715\n",
       "4070            супер  3.263559   1.319756\n",
       "3483         прошивка -1.617281   1.252803\n",
       "3701             рута -1.799086   0.971095\n",
       "84               root -3.302701   0.935663\n",
       "2638           ошибка -1.413100   0.932231\n",
       "4736           хорошо  3.739721   0.919164\n",
       "564   весь устраивать  1.648045   0.741189\n",
       "1968       невозможно -2.649782   0.717623\n",
       "792          вылетать -2.321975   0.686174\n",
       "4701          хороший  1.504347   0.659192"
      ]
     },
     "execution_count": 32,
     "metadata": {},
     "output_type": "execute_result"
    }
   ],
   "source": [
    "feature_weights['catb_fi'] = 0\n",
    "feature_weights.iloc[top1000, 2] = catb.feature_importances_\n",
    "feature_weights.sort_values(by='catb_fi', ascending=False).head(n=20)"
   ]
  },
  {
   "cell_type": "markdown",
   "metadata": {},
   "source": [
    "Можно сказать, что по большей части в положительных отзывах приложение хвалят (за удобство и т.д.) и благодарят разработчиков, а в отрицательных - жалуются на вылетание, антивирус, обновление прошивки и проблему с root."
   ]
  }
 ],
 "metadata": {
  "kernelspec": {
   "display_name": "Python 3",
   "language": "python",
   "name": "python3"
  },
  "language_info": {
   "codemirror_mode": {
    "name": "ipython",
    "version": 3
   },
   "file_extension": ".py",
   "mimetype": "text/x-python",
   "name": "python",
   "nbconvert_exporter": "python",
   "pygments_lexer": "ipython3",
   "version": "3.7.3"
  }
 },
 "nbformat": 4,
 "nbformat_minor": 2
}
