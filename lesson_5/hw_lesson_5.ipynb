{
  "nbformat": 4,
  "nbformat_minor": 0,
  "metadata": {
    "kernelspec": {
      "display_name": "Python 3",
      "language": "python",
      "name": "python3"
    },
    "language_info": {
      "codemirror_mode": {
        "name": "ipython",
        "version": 3
      },
      "file_extension": ".py",
      "mimetype": "text/x-python",
      "name": "python",
      "nbconvert_exporter": "python",
      "pygments_lexer": "ipython3",
      "version": "3.7.3"
    },
    "colab": {
      "name": "hw_lesson_5.ipynb",
      "provenance": [],
      "collapsed_sections": []
    }
  },
  "cells": [
    {
      "cell_type": "markdown",
      "metadata": {
        "id": "FQ5uhAuW9cj6",
        "colab_type": "text"
      },
      "source": [
        "Задание из 2-х частей.\n",
        "Берем отызывы за лето (из архива с материалами или предыдущего занятия)\n",
        "1. Учим conv сеть для классификации - выбить auc выше 0.95\n",
        "2. Предобучаем word2vec и его эмбединга инициализируем сетку, как влияет на качество?"
      ]
    },
    {
      "cell_type": "code",
      "metadata": {
        "id": "rwLYYcS19cj8",
        "colab_type": "code",
        "colab": {}
      },
      "source": [
        "import numpy as np\n",
        "import pandas as pd\n",
        "from tqdm import tqdm\n",
        "import matplotlib.pyplot as plt\n",
        "\n",
        "%matplotlib inline\n",
        "\n",
        "import warnings \n",
        "warnings.filterwarnings(\"ignore\", category=Warning)"
      ],
      "execution_count": 1,
      "outputs": []
    },
    {
      "cell_type": "markdown",
      "metadata": {
        "id": "wtPUA3Gs9ckD",
        "colab_type": "text"
      },
      "source": [
        "## 0. Загрузка и обзор данных"
      ]
    },
    {
      "cell_type": "code",
      "metadata": {
        "id": "mjDvgXsN9ckE",
        "colab_type": "code",
        "colab": {
          "base_uri": "https://localhost:8080/",
          "height": 204
        },
        "outputId": "916a2f54-87ef-4a5e-f472-5665f95f2411"
      },
      "source": [
        "data = pd.read_excel(\"отзывы за лето.xls\")\n",
        "data.head()"
      ],
      "execution_count": 2,
      "outputs": [
        {
          "output_type": "execute_result",
          "data": {
            "text/html": [
              "<div>\n",
              "<style scoped>\n",
              "    .dataframe tbody tr th:only-of-type {\n",
              "        vertical-align: middle;\n",
              "    }\n",
              "\n",
              "    .dataframe tbody tr th {\n",
              "        vertical-align: top;\n",
              "    }\n",
              "\n",
              "    .dataframe thead th {\n",
              "        text-align: right;\n",
              "    }\n",
              "</style>\n",
              "<table border=\"1\" class=\"dataframe\">\n",
              "  <thead>\n",
              "    <tr style=\"text-align: right;\">\n",
              "      <th></th>\n",
              "      <th>Rating</th>\n",
              "      <th>Content</th>\n",
              "      <th>Date</th>\n",
              "    </tr>\n",
              "  </thead>\n",
              "  <tbody>\n",
              "    <tr>\n",
              "      <th>0</th>\n",
              "      <td>5</td>\n",
              "      <td>It just works!</td>\n",
              "      <td>2017-08-14</td>\n",
              "    </tr>\n",
              "    <tr>\n",
              "      <th>1</th>\n",
              "      <td>4</td>\n",
              "      <td>В целом удобноное приложение...из минусов хотя...</td>\n",
              "      <td>2017-08-14</td>\n",
              "    </tr>\n",
              "    <tr>\n",
              "      <th>2</th>\n",
              "      <td>5</td>\n",
              "      <td>Отлично все</td>\n",
              "      <td>2017-08-14</td>\n",
              "    </tr>\n",
              "    <tr>\n",
              "      <th>3</th>\n",
              "      <td>5</td>\n",
              "      <td>Стал зависать на 1% работы антивируса. Дальше ...</td>\n",
              "      <td>2017-08-14</td>\n",
              "    </tr>\n",
              "    <tr>\n",
              "      <th>4</th>\n",
              "      <td>5</td>\n",
              "      <td>Очень удобно, работает быстро.</td>\n",
              "      <td>2017-08-14</td>\n",
              "    </tr>\n",
              "  </tbody>\n",
              "</table>\n",
              "</div>"
            ],
            "text/plain": [
              "   Rating                                            Content        Date\n",
              "0       5                                     It just works!  2017-08-14\n",
              "1       4  В целом удобноное приложение...из минусов хотя...  2017-08-14\n",
              "2       5                                        Отлично все  2017-08-14\n",
              "3       5  Стал зависать на 1% работы антивируса. Дальше ...  2017-08-14\n",
              "4       5                     Очень удобно, работает быстро.  2017-08-14"
            ]
          },
          "metadata": {
            "tags": []
          },
          "execution_count": 2
        }
      ]
    },
    {
      "cell_type": "code",
      "metadata": {
        "id": "48q96sYD9ckL",
        "colab_type": "code",
        "colab": {
          "base_uri": "https://localhost:8080/",
          "height": 119
        },
        "outputId": "7a62eeac-5b44-4bb9-b9d8-5db2091bb1fc"
      },
      "source": [
        "data['Rating'].value_counts()"
      ],
      "execution_count": 3,
      "outputs": [
        {
          "output_type": "execute_result",
          "data": {
            "text/plain": [
              "5    14586\n",
              "1     2276\n",
              "4     2138\n",
              "3      911\n",
              "2      748\n",
              "Name: Rating, dtype: int64"
            ]
          },
          "metadata": {
            "tags": []
          },
          "execution_count": 3
        }
      ]
    },
    {
      "cell_type": "code",
      "metadata": {
        "id": "RYifcm_M9ckc",
        "colab_type": "code",
        "colab": {}
      },
      "source": [
        "data = data[data['Rating'] != 3]\n",
        "data['target'] = data['Rating'] > 3\n",
        "data['target'] = data['target'].astype(int)"
      ],
      "execution_count": 4,
      "outputs": []
    },
    {
      "cell_type": "code",
      "metadata": {
        "id": "thWsmq1l9ckj",
        "colab_type": "code",
        "colab": {
          "base_uri": "https://localhost:8080/",
          "height": 68
        },
        "outputId": "39cb8379-5db7-468b-bebc-8153546a8133"
      },
      "source": [
        "data['target'].value_counts()"
      ],
      "execution_count": 5,
      "outputs": [
        {
          "output_type": "execute_result",
          "data": {
            "text/plain": [
              "1    16724\n",
              "0     3024\n",
              "Name: target, dtype: int64"
            ]
          },
          "metadata": {
            "tags": []
          },
          "execution_count": 5
        }
      ]
    },
    {
      "cell_type": "markdown",
      "metadata": {
        "id": "Cgsbm_zD9ckp",
        "colab_type": "text"
      },
      "source": [
        "**Положительные отзывы:**"
      ]
    },
    {
      "cell_type": "code",
      "metadata": {
        "id": "Yi_sJRjn9ckq",
        "colab_type": "code",
        "colab": {
          "base_uri": "https://localhost:8080/",
          "height": 374
        },
        "outputId": "9d0c8ee8-b681-409f-a589-a1e06c290c05"
      },
      "source": [
        "data.loc[data['target'] == 1, 'Content'].sample(20, random_state=42)"
      ],
      "execution_count": 6,
      "outputs": [
        {
          "output_type": "execute_result",
          "data": {
            "text/plain": [
              "19216                                  Спасибо, все удобно\n",
              "12380                                                   Ok\n",
              "953                                                Отлично\n",
              "15329                                     Удобное спасибо!\n",
              "12421                                  Отличное приложение\n",
              "17805                                                   Ок\n",
              "8245                                                  норм\n",
              "7299                                               отлично\n",
              "5504                              Очень удобное приложение\n",
              "19928                                              Отлично\n",
              "12680    Заходить в приложение стало в 2 раза дольше,фу...\n",
              "7209                Не могу скачать приложение, ошибка 963\n",
              "12721                 Всё отлично!приложение очень радует!\n",
              "10057                                Удобно.Быстро.Надежно\n",
              "3191                                Очень просто и быстро.\n",
              "5886     Мне понравилось очень удобно сидиш дома и все ...\n",
              "10309    Перестало заходить, причем именно дома по wi f...\n",
              "8383                                    супер!очень удобно\n",
              "8886     Отличное приложение. Весь нужный для обывателя...\n",
              "1022                                           Дайте денег\n",
              "Name: Content, dtype: object"
            ]
          },
          "metadata": {
            "tags": []
          },
          "execution_count": 6
        }
      ]
    },
    {
      "cell_type": "markdown",
      "metadata": {
        "id": "59NV5Olf9ckw",
        "colab_type": "text"
      },
      "source": [
        "**Отрицательные отзывы:**"
      ]
    },
    {
      "cell_type": "code",
      "metadata": {
        "id": "y3zC3lPi9cky",
        "colab_type": "code",
        "colab": {
          "base_uri": "https://localhost:8080/",
          "height": 374
        },
        "outputId": "f1552175-7ab1-4783-f1f1-3c6194db6251"
      },
      "source": [
        "data.loc[data['target'] == 0, 'Content'].sample(20, random_state=42)"
      ],
      "execution_count": 7,
      "outputs": [
        {
          "output_type": "execute_result",
          "data": {
            "text/plain": [
              "20636                     Дайте доступ к роот правам, с*ки\n",
              "2226     По три раза просит пароль задолбал исправьте п...\n",
              "13980    Ну задолбало уже по 2-3 раза вводить пароль дл...\n",
              "13173    Если честно - дерьмо Ваше приложение! Исправьт...\n",
              "8452                             Не приходит СМС с паролем\n",
              "10162    В шаблонах чехарда появляются записи из Контак...\n",
              "506      Куда подевалось вход по отпечатку? При запуске...\n",
              "17032    Все было хорошо недавно перестало работать из....\n",
              "11215    Не устанавливается приложение!Раньше все было ...\n",
              "3582     Установил приложение. Зарегистрироваться так и...\n",
              "20173    У меня тоже телефон meizu pro 6. И тоже пишет ...\n",
              "9355     Почему у сбера переводы длятся вечность? Польз...\n",
              "8580     Здравствуйте. После последнего обновления стал...\n",
              "1742     При регистрации не могу ввести разовый пароль ...\n",
              "456      Разрабы тупые рукожопы! Наковыряли в обновлени...\n",
              "15358    Не могу войти на свой счет и зарегать новый не...\n",
              "20115    Очень медленное приложение в начале загрузки, ...\n",
              "9829                       Не приходит смс для регистрации\n",
              "14461    Проблемы с подключением. Долго захожу в личный...\n",
              "1360              При регистрации не приходит смс, почему?\n",
              "Name: Content, dtype: object"
            ]
          },
          "metadata": {
            "tags": []
          },
          "execution_count": 7
        }
      ]
    },
    {
      "cell_type": "markdown",
      "metadata": {
        "id": "QREkm8H79ck3",
        "colab_type": "text"
      },
      "source": [
        "## 1. Обработка текстов"
      ]
    },
    {
      "cell_type": "code",
      "metadata": {
        "id": "uFWP6-DUu09c",
        "colab_type": "code",
        "colab": {
          "base_uri": "https://localhost:8080/",
          "height": 85
        },
        "outputId": "02440c44-e2e7-4372-85c1-45c8c441dbd6"
      },
      "source": [
        "!pip install pymorphy2"
      ],
      "execution_count": 8,
      "outputs": [
        {
          "output_type": "stream",
          "text": [
            "Requirement already satisfied: pymorphy2 in /usr/local/lib/python3.6/dist-packages (0.8)\n",
            "Requirement already satisfied: docopt>=0.6 in /usr/local/lib/python3.6/dist-packages (from pymorphy2) (0.6.2)\n",
            "Requirement already satisfied: dawg-python>=0.7 in /usr/local/lib/python3.6/dist-packages (from pymorphy2) (0.7.2)\n",
            "Requirement already satisfied: pymorphy2-dicts<3.0,>=2.4 in /usr/local/lib/python3.6/dist-packages (from pymorphy2) (2.4.393442.3710985)\n"
          ],
          "name": "stdout"
        }
      ]
    },
    {
      "cell_type": "code",
      "metadata": {
        "id": "YJ0BYR5E9ck5",
        "colab_type": "code",
        "colab": {
          "base_uri": "https://localhost:8080/",
          "height": 51
        },
        "outputId": "e38ab1f1-c27b-46bb-c6d0-bea2e1ddf98f"
      },
      "source": [
        "import nltk\n",
        "from nltk.tokenize import word_tokenize\n",
        "nltk.download(\"punkt\")\n",
        "\n",
        "from pymorphy2 import MorphAnalyzer"
      ],
      "execution_count": 9,
      "outputs": [
        {
          "output_type": "stream",
          "text": [
            "[nltk_data] Downloading package punkt to /root/nltk_data...\n",
            "[nltk_data]   Package punkt is already up-to-date!\n"
          ],
          "name": "stdout"
        }
      ]
    },
    {
      "cell_type": "markdown",
      "metadata": {
        "id": "D2AiaO-79ck-",
        "colab_type": "text"
      },
      "source": [
        "Ограничимся минимальной очисткой текстов - только от точек, запятых и предлогов:"
      ]
    },
    {
      "cell_type": "code",
      "metadata": {
        "id": "HbK-VAq99ck_",
        "colab_type": "code",
        "colab": {}
      },
      "source": [
        "punctuation = r'[,.]'\n",
        "morpher = MorphAnalyzer()\n",
        "\n",
        "stop = {'без', 'безо', 'близ', 'в', 'во', 'вместо', 'вне',\n",
        "        'для', 'до', 'за', 'из', 'изо', 'из-за', 'из-под', \n",
        "        'к', 'ко', 'кроме', 'между', 'меж', 'на', 'над', 'надо',\n",
        "        'о', 'об', 'обо', 'от', 'ото', 'перед', 'передо', 'пред', 'предо',\n",
        "        'пo', 'под', 'подо', 'при', 'про', 'ради', 'с', 'со',\n",
        "        'сквозь', 'среди', 'у', 'через', 'чрез'}"
      ],
      "execution_count": 10,
      "outputs": []
    },
    {
      "cell_type": "markdown",
      "metadata": {
        "id": "DGr7jB6H9clF",
        "colab_type": "text"
      },
      "source": [
        "Функции для обработки текстов:"
      ]
    },
    {
      "cell_type": "code",
      "metadata": {
        "id": "zibn1KSq9clK",
        "colab_type": "code",
        "colab": {}
      },
      "source": [
        "def normalize_text(text_list):\n",
        "    return [morpher.parse(word)[0].normal_form \\\n",
        "            for word in text_list if word not in stop]\n",
        "\n",
        "def preprocess_text(text):    \n",
        "    text_list = nltk.word_tokenize(str(text))\n",
        "    text_list = normalize_text(text_list)\n",
        "    return text_list"
      ],
      "execution_count": 11,
      "outputs": []
    },
    {
      "cell_type": "markdown",
      "metadata": {
        "id": "IsHjBLm49clQ",
        "colab_type": "text"
      },
      "source": [
        "Обработка текстов:"
      ]
    },
    {
      "cell_type": "code",
      "metadata": {
        "id": "aLuJeAYi9clR",
        "colab_type": "code",
        "colab": {
          "base_uri": "https://localhost:8080/",
          "height": 34
        },
        "outputId": "0f0dcff8-a99a-4efc-c19c-81b7c7c19f09"
      },
      "source": [
        "data['Text'] = data['Content'].str.lower()\n",
        "data['Text'] = data['Text'].str.replace(r'[.,]', ' ')\n",
        "data['Text'] = [preprocess_text(text_list) for text_list in tqdm(data['Text'])]"
      ],
      "execution_count": 53,
      "outputs": [
        {
          "output_type": "stream",
          "text": [
            "100%|██████████| 19748/19748 [00:31<00:00, 633.55it/s]\n"
          ],
          "name": "stderr"
        }
      ]
    },
    {
      "cell_type": "markdown",
      "metadata": {
        "id": "DCRYrXZG9clW",
        "colab_type": "text"
      },
      "source": [
        "Датафрейм с обработанными текстами:"
      ]
    },
    {
      "cell_type": "code",
      "metadata": {
        "id": "DNuRysbd9clY",
        "colab_type": "code",
        "colab": {
          "base_uri": "https://localhost:8080/",
          "height": 359
        },
        "outputId": "3a49cd36-675e-44d3-bb22-b09a9a65616c"
      },
      "source": [
        "data['Text'] = data['Text'].str.join(' ')\n",
        "data.head(n=10)"
      ],
      "execution_count": 13,
      "outputs": [
        {
          "output_type": "execute_result",
          "data": {
            "text/html": [
              "<div>\n",
              "<style scoped>\n",
              "    .dataframe tbody tr th:only-of-type {\n",
              "        vertical-align: middle;\n",
              "    }\n",
              "\n",
              "    .dataframe tbody tr th {\n",
              "        vertical-align: top;\n",
              "    }\n",
              "\n",
              "    .dataframe thead th {\n",
              "        text-align: right;\n",
              "    }\n",
              "</style>\n",
              "<table border=\"1\" class=\"dataframe\">\n",
              "  <thead>\n",
              "    <tr style=\"text-align: right;\">\n",
              "      <th></th>\n",
              "      <th>Rating</th>\n",
              "      <th>Content</th>\n",
              "      <th>Date</th>\n",
              "      <th>target</th>\n",
              "      <th>Text</th>\n",
              "    </tr>\n",
              "  </thead>\n",
              "  <tbody>\n",
              "    <tr>\n",
              "      <th>0</th>\n",
              "      <td>5</td>\n",
              "      <td>It just works!</td>\n",
              "      <td>2017-08-14</td>\n",
              "      <td>1</td>\n",
              "      <td>it just works !</td>\n",
              "    </tr>\n",
              "    <tr>\n",
              "      <th>1</th>\n",
              "      <td>4</td>\n",
              "      <td>В целом удобноное приложение...из минусов хотя...</td>\n",
              "      <td>2017-08-14</td>\n",
              "      <td>1</td>\n",
              "      <td>целое удобноной приложение минус хотеть слишко...</td>\n",
              "    </tr>\n",
              "    <tr>\n",
              "      <th>2</th>\n",
              "      <td>5</td>\n",
              "      <td>Отлично все</td>\n",
              "      <td>2017-08-14</td>\n",
              "      <td>1</td>\n",
              "      <td>отлично весь</td>\n",
              "    </tr>\n",
              "    <tr>\n",
              "      <th>3</th>\n",
              "      <td>5</td>\n",
              "      <td>Стал зависать на 1% работы антивируса. Дальше ...</td>\n",
              "      <td>2017-08-14</td>\n",
              "      <td>1</td>\n",
              "      <td>стать зависать 1 % работа антивирус далёкий ни...</td>\n",
              "    </tr>\n",
              "    <tr>\n",
              "      <th>4</th>\n",
              "      <td>5</td>\n",
              "      <td>Очень удобно, работает быстро.</td>\n",
              "      <td>2017-08-14</td>\n",
              "      <td>1</td>\n",
              "      <td>очень удобно работать быстро</td>\n",
              "    </tr>\n",
              "    <tr>\n",
              "      <th>5</th>\n",
              "      <td>5</td>\n",
              "      <td>Всё удобно норм 👍👍👍</td>\n",
              "      <td>2017-08-14</td>\n",
              "      <td>1</td>\n",
              "      <td>весь удобно норма 👍👍👍</td>\n",
              "    </tr>\n",
              "    <tr>\n",
              "      <th>6</th>\n",
              "      <td>5</td>\n",
              "      <td>Очень удобное приложение.</td>\n",
              "      <td>2017-08-14</td>\n",
              "      <td>1</td>\n",
              "      <td>очень удобный приложение</td>\n",
              "    </tr>\n",
              "    <tr>\n",
              "      <th>7</th>\n",
              "      <td>5</td>\n",
              "      <td>Все устраивает</td>\n",
              "      <td>2017-08-14</td>\n",
              "      <td>1</td>\n",
              "      <td>весь устраивать</td>\n",
              "    </tr>\n",
              "    <tr>\n",
              "      <th>8</th>\n",
              "      <td>5</td>\n",
              "      <td>У меня работает все четко. В отличии от банком...</td>\n",
              "      <td>2017-08-14</td>\n",
              "      <td>1</td>\n",
              "      <td>я работать весь чётко отличие банкомат который...</td>\n",
              "    </tr>\n",
              "    <tr>\n",
              "      <th>9</th>\n",
              "      <td>5</td>\n",
              "      <td>Очень все хорошо👍</td>\n",
              "      <td>2017-08-14</td>\n",
              "      <td>1</td>\n",
              "      <td>очень весь хорошо👍</td>\n",
              "    </tr>\n",
              "  </tbody>\n",
              "</table>\n",
              "</div>"
            ],
            "text/plain": [
              "   Rating  ...                                               Text\n",
              "0       5  ...                                    it just works !\n",
              "1       4  ...  целое удобноной приложение минус хотеть слишко...\n",
              "2       5  ...                                       отлично весь\n",
              "3       5  ...  стать зависать 1 % работа антивирус далёкий ни...\n",
              "4       5  ...                       очень удобно работать быстро\n",
              "5       5  ...                              весь удобно норма 👍👍👍\n",
              "6       5  ...                           очень удобный приложение\n",
              "7       5  ...                                    весь устраивать\n",
              "8       5  ...  я работать весь чётко отличие банкомат который...\n",
              "9       5  ...                                 очень весь хорошо👍\n",
              "\n",
              "[10 rows x 5 columns]"
            ]
          },
          "metadata": {
            "tags": []
          },
          "execution_count": 13
        }
      ]
    },
    {
      "cell_type": "code",
      "metadata": {
        "id": "Ouk1GMDi9cld",
        "colab_type": "code",
        "colab": {}
      },
      "source": [
        "from sklearn.model_selection import train_test_split"
      ],
      "execution_count": 14,
      "outputs": []
    },
    {
      "cell_type": "code",
      "metadata": {
        "id": "NBTi9mYF9cli",
        "colab_type": "code",
        "colab": {}
      },
      "source": [
        "X = data['Text']\n",
        "y = data['target']"
      ],
      "execution_count": 15,
      "outputs": []
    },
    {
      "cell_type": "code",
      "metadata": {
        "id": "7YkJcZ8C9cln",
        "colab_type": "code",
        "colab": {}
      },
      "source": [
        "X_train, X_test, y_train, y_test = train_test_split(\n",
        "    X, y,\n",
        "    test_size=0.25,\n",
        "    random_state=42,\n",
        "    stratify=y\n",
        ")"
      ],
      "execution_count": 16,
      "outputs": []
    },
    {
      "cell_type": "code",
      "metadata": {
        "id": "-BQajkHX9cl0",
        "colab_type": "code",
        "colab": {}
      },
      "source": [
        "max_words = 5000\n",
        "emb_len = 128\n",
        "max_len = 40"
      ],
      "execution_count": 17,
      "outputs": []
    },
    {
      "cell_type": "code",
      "metadata": {
        "id": "le_eb8bxwmgq",
        "colab_type": "code",
        "colab": {}
      },
      "source": [
        "train_corpus = ' '.join(X_train)\n",
        "tokens = word_tokenize(train_corpus)"
      ],
      "execution_count": 18,
      "outputs": []
    },
    {
      "cell_type": "code",
      "metadata": {
        "id": "GuC0b0F49cl-",
        "colab_type": "code",
        "colab": {}
      },
      "source": [
        "tokens_filtered = [word for word in tokens if word.isalnum()]"
      ],
      "execution_count": 19,
      "outputs": []
    },
    {
      "cell_type": "code",
      "metadata": {
        "id": "E5njEGaQ9cmE",
        "colab_type": "code",
        "colab": {}
      },
      "source": [
        "# from nltk.probability import FreqDist\n",
        "dist = nltk.probability.FreqDist(tokens_filtered)\n",
        "tokens_filtered_top = [pair[0] for pair in dist.most_common(max_words-1)]"
      ],
      "execution_count": 20,
      "outputs": []
    },
    {
      "cell_type": "code",
      "metadata": {
        "id": "Npa7tTsx9cmJ",
        "colab_type": "code",
        "colab": {
          "base_uri": "https://localhost:8080/",
          "height": 187
        },
        "outputId": "a5fea999-f64e-461a-8c5a-f080152f73f5"
      },
      "source": [
        "tokens_filtered_top[:10]"
      ],
      "execution_count": 21,
      "outputs": [
        {
          "output_type": "execute_result",
          "data": {
            "text/plain": [
              "['приложение',\n",
              " 'весь',\n",
              " 'не',\n",
              " 'и',\n",
              " 'очень',\n",
              " 'удобно',\n",
              " 'я',\n",
              " 'работать',\n",
              " 'удобный',\n",
              " 'что']"
            ]
          },
          "metadata": {
            "tags": []
          },
          "execution_count": 21
        }
      ]
    },
    {
      "cell_type": "code",
      "metadata": {
        "id": "0OwWSu6Q9cmP",
        "colab_type": "code",
        "colab": {}
      },
      "source": [
        "vocabulary = {v: k for k, v in dict(enumerate(tokens_filtered_top, 1)).items()}"
      ],
      "execution_count": 22,
      "outputs": []
    },
    {
      "cell_type": "code",
      "metadata": {
        "id": "_JD-Q8dp9cmW",
        "colab_type": "code",
        "colab": {}
      },
      "source": [
        "def text_to_sequence(text, maxlen):\n",
        "    result = []\n",
        "    tokens = word_tokenize(text.lower())\n",
        "    tokens_filtered = [word for word in tokens if word.isalnum()]\n",
        "    for word in tokens_filtered:\n",
        "        if word in vocabulary:\n",
        "            result.append(vocabulary[word])\n",
        "    padding = [0]*(maxlen-len(result))\n",
        "    return padding + result[-maxlen:]"
      ],
      "execution_count": 23,
      "outputs": []
    },
    {
      "cell_type": "code",
      "metadata": {
        "id": "qM5s2cp_9cmc",
        "colab_type": "code",
        "colab": {}
      },
      "source": [
        "X_train_sec = np.asarray([text_to_sequence(text, max_len) for text in X_train], dtype=np.int32)\n",
        "X_test_sec = np.asarray([text_to_sequence(text, max_len) for text in X_test], dtype=np.int32)"
      ],
      "execution_count": 24,
      "outputs": []
    },
    {
      "cell_type": "code",
      "metadata": {
        "id": "u8BF7Q_49cmi",
        "colab_type": "code",
        "colab": {
          "base_uri": "https://localhost:8080/",
          "height": 34
        },
        "outputId": "d9970c67-25a1-4aa0-a6c9-96200284fc89"
      },
      "source": [
        "X_train_sec.shape"
      ],
      "execution_count": 25,
      "outputs": [
        {
          "output_type": "execute_result",
          "data": {
            "text/plain": [
              "(14811, 40)"
            ]
          },
          "metadata": {
            "tags": []
          },
          "execution_count": 25
        }
      ]
    },
    {
      "cell_type": "code",
      "metadata": {
        "id": "iP2nRMa49cmn",
        "colab_type": "code",
        "colab": {
          "base_uri": "https://localhost:8080/",
          "height": 68
        },
        "outputId": "44dfa3ff-98b0-4396-832b-bb3bf91f3325"
      },
      "source": [
        "X_train_sec[1]"
      ],
      "execution_count": 26,
      "outputs": [
        {
          "output_type": "execute_result",
          "data": {
            "text/plain": [
              "array([ 0,  0,  0,  0,  0,  0,  0,  0,  0,  0,  0,  0,  0,  0,  0,  0,  0,\n",
              "        0,  0,  0,  0,  0,  0,  0,  0,  0,  0,  0,  0,  0,  0,  0,  0,  0,\n",
              "        0,  0,  0, 13,  8, 11], dtype=int32)"
            ]
          },
          "metadata": {
            "tags": []
          },
          "execution_count": 26
        }
      ]
    },
    {
      "cell_type": "code",
      "metadata": {
        "id": "OLbfBbJ29cms",
        "colab_type": "code",
        "colab": {}
      },
      "source": [
        "import keras\n",
        "from keras.models import Sequential, Model\n",
        "from keras.layers import Dense, Dropout, Activation, Input, Embedding, Conv1D, GlobalMaxPool1D, Flatten"
      ],
      "execution_count": 27,
      "outputs": []
    },
    {
      "cell_type": "code",
      "metadata": {
        "id": "mEZdwVWW-fg7",
        "colab_type": "code",
        "colab": {}
      },
      "source": [
        "model = Sequential()\n",
        "model.add(Embedding(input_dim=max_words, output_dim=emb_len, input_length=max_len))\n",
        "model.add(Conv1D(emb_len, 3))\n",
        "model.add(Activation(\"relu\"))\n",
        "model.add(GlobalMaxPool1D())\n",
        "model.add(Dense(10))\n",
        "model.add(Activation(\"relu\"))\n",
        "model.add(Dropout(0.5))\n",
        "model.add(Dense(1))\n",
        "model.add(Activation('sigmoid'))"
      ],
      "execution_count": 43,
      "outputs": []
    },
    {
      "cell_type": "code",
      "metadata": {
        "id": "NihD65by-jhq",
        "colab_type": "code",
        "colab": {}
      },
      "source": [
        "model.compile(loss='binary_crossentropy',\n",
        "              optimizer='adam',\n",
        "              metrics=['acc'])"
      ],
      "execution_count": 44,
      "outputs": []
    },
    {
      "cell_type": "code",
      "metadata": {
        "id": "K7bTMX1T-w_e",
        "colab_type": "code",
        "colab": {
          "base_uri": "https://localhost:8080/",
          "height": 357
        },
        "outputId": "dd18f27c-625e-4173-f512-776d9aa4e059"
      },
      "source": [
        "history1 = model.fit(X_train_sec, y_train,\n",
        "                     batch_size=10,\n",
        "                     epochs=10,\n",
        "                     verbose=1,\n",
        "                     validation_split=0.25)"
      ],
      "execution_count": 45,
      "outputs": [
        {
          "output_type": "stream",
          "text": [
            "Epoch 1/10\n",
            "1111/1111 [==============================] - 13s 12ms/step - loss: 0.2315 - acc: 0.8934 - val_loss: 0.1744 - val_acc: 0.9271\n",
            "Epoch 2/10\n",
            "1111/1111 [==============================] - 13s 11ms/step - loss: 0.1562 - acc: 0.9269 - val_loss: 0.1941 - val_acc: 0.9263\n",
            "Epoch 3/10\n",
            "1111/1111 [==============================] - 13s 11ms/step - loss: 0.1309 - acc: 0.9481 - val_loss: 0.2005 - val_acc: 0.9255\n",
            "Epoch 4/10\n",
            "1111/1111 [==============================] - 13s 11ms/step - loss: 0.1067 - acc: 0.9591 - val_loss: 0.2362 - val_acc: 0.9176\n",
            "Epoch 5/10\n",
            "1111/1111 [==============================] - 13s 12ms/step - loss: 0.0839 - acc: 0.9674 - val_loss: 0.3467 - val_acc: 0.9125\n",
            "Epoch 6/10\n",
            "1111/1111 [==============================] - 13s 12ms/step - loss: 0.0693 - acc: 0.9732 - val_loss: 0.2875 - val_acc: 0.9184\n",
            "Epoch 7/10\n",
            "1111/1111 [==============================] - 13s 12ms/step - loss: 0.0606 - acc: 0.9779 - val_loss: 0.3544 - val_acc: 0.9174\n",
            "Epoch 8/10\n",
            "1111/1111 [==============================] - 13s 12ms/step - loss: 0.0526 - acc: 0.9792 - val_loss: 0.3258 - val_acc: 0.9117\n",
            "Epoch 9/10\n",
            "1111/1111 [==============================] - 13s 12ms/step - loss: 0.0530 - acc: 0.9816 - val_loss: 0.3729 - val_acc: 0.9176\n",
            "Epoch 10/10\n",
            "1111/1111 [==============================] - 13s 12ms/step - loss: 0.0498 - acc: 0.9822 - val_loss: 0.4637 - val_acc: 0.9117\n"
          ],
          "name": "stdout"
        }
      ]
    },
    {
      "cell_type": "code",
      "metadata": {
        "id": "bvJ08a8T_oQu",
        "colab_type": "code",
        "colab": {
          "base_uri": "https://localhost:8080/",
          "height": 51
        },
        "outputId": "5c7dae4e-6d2c-4598-f7dc-7937e2ad6d0e"
      },
      "source": [
        "loss, acc = model.evaluate(X_test_sec, y_test, batch_size=10, verbose=1)\n",
        "print(loss, acc)"
      ],
      "execution_count": 46,
      "outputs": [
        {
          "output_type": "stream",
          "text": [
            "494/494 [==============================] - 1s 2ms/step - loss: 0.4600 - acc: 0.9165\n",
            "0.46003401279449463 0.916548490524292\n"
          ],
          "name": "stdout"
        }
      ]
    },
    {
      "cell_type": "code",
      "metadata": {
        "id": "BtTKyc3Y01rX",
        "colab_type": "code",
        "colab": {}
      },
      "source": [
        "from gensim.models import Word2Vec"
      ],
      "execution_count": 32,
      "outputs": []
    },
    {
      "cell_type": "code",
      "metadata": {
        "id": "KdLNrI6o08vM",
        "colab_type": "code",
        "colab": {}
      },
      "source": [
        "X_train_tokenized = X_train.apply(word_tokenize)"
      ],
      "execution_count": 33,
      "outputs": []
    },
    {
      "cell_type": "code",
      "metadata": {
        "id": "WseotSaB084L",
        "colab_type": "code",
        "colab": {}
      },
      "source": [
        "sentences = X_train_tokenized.tolist()\n",
        "params = {'size': emb_len, 'window': 5, 'min_count': 2, 'sg': 1, 'hs': 0, 'negative': 10, 'workers': 32, 'seed': 34}"
      ],
      "execution_count": 34,
      "outputs": []
    },
    {
      "cell_type": "code",
      "metadata": {
        "id": "a2HwrnES09Cl",
        "colab_type": "code",
        "colab": {
          "base_uri": "https://localhost:8080/",
          "height": 51
        },
        "outputId": "f5edc6e8-41da-48d2-ec20-c3bdbc5bfb6b"
      },
      "source": [
        "%%time\n",
        "model_w2v = Word2Vec(**params)\n",
        "model_w2v.build_vocab(sentences)\n",
        "model_w2v.train(sentences,\n",
        "                total_examples=len(sentences),\n",
        "                epochs=20)"
      ],
      "execution_count": 35,
      "outputs": [
        {
          "output_type": "stream",
          "text": [
            "CPU times: user 20.3 s, sys: 153 ms, total: 20.5 s\n",
            "Wall time: 11 s\n"
          ],
          "name": "stdout"
        }
      ]
    },
    {
      "cell_type": "code",
      "metadata": {
        "id": "iTsJWQd_08_3",
        "colab_type": "code",
        "colab": {}
      },
      "source": [
        "embs = [np.zeros(emb_len).reshape((1, emb_len))]\n",
        "for word in vocabulary:\n",
        "    if word in model_w2v:\n",
        "        emb = model_w2v[word].reshape((1, emb_len))\n",
        "    else:\n",
        "        emb = np.zeros(emb_len).reshape((1, emb_len))\n",
        "    embs.append(emb)\n",
        "embs_ = np.concatenate(embs).astype(np.float32)"
      ],
      "execution_count": 37,
      "outputs": []
    },
    {
      "cell_type": "code",
      "metadata": {
        "id": "Vj4RVTlm8y1h",
        "colab_type": "code",
        "colab": {}
      },
      "source": [
        "embeddings_initializer = keras.initializers.Constant(embs_)"
      ],
      "execution_count": 38,
      "outputs": []
    },
    {
      "cell_type": "code",
      "metadata": {
        "id": "iLCqoi6IzllK",
        "colab_type": "code",
        "colab": {}
      },
      "source": [
        "model = Sequential()\n",
        "model.add(Embedding(input_dim=max_words, output_dim=emb_len, input_length=max_len, embeddings_initializer=embeddings_initializer))\n",
        "model.add(Conv1D(emb_len, 3))\n",
        "model.add(Activation(\"relu\"))\n",
        "model.add(GlobalMaxPool1D())\n",
        "model.add(Dense(10))\n",
        "model.add(Activation(\"relu\"))\n",
        "model.add(Dropout(0.5))\n",
        "model.add(Dense(1))\n",
        "model.add(Activation('sigmoid'))"
      ],
      "execution_count": 50,
      "outputs": []
    },
    {
      "cell_type": "code",
      "metadata": {
        "id": "2g2kS1GV2hvz",
        "colab_type": "code",
        "colab": {}
      },
      "source": [
        "model.compile(loss='binary_crossentropy',\n",
        "              optimizer='adam',\n",
        "              metrics=['acc'])"
      ],
      "execution_count": 51,
      "outputs": []
    },
    {
      "cell_type": "code",
      "metadata": {
        "id": "cp0gOsNK8AIB",
        "colab_type": "code",
        "colab": {
          "base_uri": "https://localhost:8080/",
          "height": 357
        },
        "outputId": "16b0c00b-914d-43f3-d1b9-e72ad7a04d69"
      },
      "source": [
        "history2 = model.fit(X_train_sec, y_train,\n",
        "                     batch_size=10,\n",
        "                     epochs=10,\n",
        "                     verbose=1,\n",
        "                     validation_split=0.25)"
      ],
      "execution_count": 52,
      "outputs": [
        {
          "output_type": "stream",
          "text": [
            "Epoch 1/10\n",
            "1111/1111 [==============================] - 13s 12ms/step - loss: 0.2245 - acc: 0.9090 - val_loss: 0.1655 - val_acc: 0.9241\n",
            "Epoch 2/10\n",
            "1111/1111 [==============================] - 13s 11ms/step - loss: 0.1683 - acc: 0.9346 - val_loss: 0.1605 - val_acc: 0.9338\n",
            "Epoch 3/10\n",
            "1111/1111 [==============================] - 13s 12ms/step - loss: 0.1371 - acc: 0.9478 - val_loss: 0.1614 - val_acc: 0.9301\n",
            "Epoch 4/10\n",
            "1111/1111 [==============================] - 14s 12ms/step - loss: 0.1108 - acc: 0.9633 - val_loss: 0.2049 - val_acc: 0.9328\n",
            "Epoch 5/10\n",
            "1111/1111 [==============================] - 13s 11ms/step - loss: 0.0871 - acc: 0.9721 - val_loss: 0.2465 - val_acc: 0.9220\n",
            "Epoch 6/10\n",
            "1111/1111 [==============================] - 13s 12ms/step - loss: 0.0649 - acc: 0.9818 - val_loss: 0.3326 - val_acc: 0.9230\n",
            "Epoch 7/10\n",
            "1111/1111 [==============================] - 13s 12ms/step - loss: 0.0501 - acc: 0.9865 - val_loss: 0.3312 - val_acc: 0.9163\n",
            "Epoch 8/10\n",
            "1111/1111 [==============================] - 13s 12ms/step - loss: 0.0420 - acc: 0.9883 - val_loss: 0.4004 - val_acc: 0.9168\n",
            "Epoch 9/10\n",
            "1111/1111 [==============================] - 13s 12ms/step - loss: 0.0334 - acc: 0.9896 - val_loss: 0.4712 - val_acc: 0.9203\n",
            "Epoch 10/10\n",
            "1111/1111 [==============================] - 13s 12ms/step - loss: 0.0348 - acc: 0.9886 - val_loss: 0.4234 - val_acc: 0.9179\n"
          ],
          "name": "stdout"
        }
      ]
    },
    {
      "cell_type": "code",
      "metadata": {
        "id": "eN1CaKTSyd-y",
        "colab_type": "code",
        "colab": {
          "base_uri": "https://localhost:8080/",
          "height": 51
        },
        "outputId": "7d4506b9-b222-49be-988a-5340b4de0948"
      },
      "source": [
        "loss, acc = model.evaluate(X_test_sec, y_test, batch_size=10, verbose=1)\n",
        "print(loss, acc)"
      ],
      "execution_count": 42,
      "outputs": [
        {
          "output_type": "stream",
          "text": [
            "494/494 [==============================] - 1s 2ms/step - loss: 0.1954 - acc: 0.9261\n",
            "0.19538545608520508 0.9260684847831726\n"
          ],
          "name": "stdout"
        }
      ]
    },
    {
      "cell_type": "code",
      "metadata": {
        "id": "4Q6uxf1TBnVk",
        "colab_type": "code",
        "colab": {}
      },
      "source": [
        ""
      ],
      "execution_count": null,
      "outputs": []
    }
  ]
}